{
 "cells": [
  {
   "cell_type": "code",
   "execution_count": 1,
   "id": "db78404e",
   "metadata": {},
   "outputs": [],
   "source": [
    "# Step 1 : import library\n",
    "import pandas as pd\n",
    "import numpy as np"
   ]
  },
  {
   "cell_type": "code",
   "execution_count": 2,
   "id": "7a89ffea",
   "metadata": {},
   "outputs": [],
   "source": [
    "#import dataset\n",
    "df=pd.read_csv(r'https://raw.githubusercontent.com/YBI-Foundation/Dataset/main/Movies%20Recommendation.csv')"
   ]
  },
  {
   "cell_type": "code",
   "execution_count": 3,
   "id": "55458e3e",
   "metadata": {},
   "outputs": [
    {
     "data": {
      "text/html": [
       "<div>\n",
       "<style scoped>\n",
       "    .dataframe tbody tr th:only-of-type {\n",
       "        vertical-align: middle;\n",
       "    }\n",
       "\n",
       "    .dataframe tbody tr th {\n",
       "        vertical-align: top;\n",
       "    }\n",
       "\n",
       "    .dataframe thead th {\n",
       "        text-align: right;\n",
       "    }\n",
       "</style>\n",
       "<table border=\"1\" class=\"dataframe\">\n",
       "  <thead>\n",
       "    <tr style=\"text-align: right;\">\n",
       "      <th></th>\n",
       "      <th>Movie_ID</th>\n",
       "      <th>Movie_Title</th>\n",
       "      <th>Movie_Genre</th>\n",
       "      <th>Movie_Language</th>\n",
       "      <th>Movie_Budget</th>\n",
       "      <th>Movie_Popularity</th>\n",
       "      <th>Movie_Release_Date</th>\n",
       "      <th>Movie_Revenue</th>\n",
       "      <th>Movie_Runtime</th>\n",
       "      <th>Movie_Vote</th>\n",
       "      <th>...</th>\n",
       "      <th>Movie_Homepage</th>\n",
       "      <th>Movie_Keywords</th>\n",
       "      <th>Movie_Overview</th>\n",
       "      <th>Movie_Production_House</th>\n",
       "      <th>Movie_Production_Country</th>\n",
       "      <th>Movie_Spoken_Language</th>\n",
       "      <th>Movie_Tagline</th>\n",
       "      <th>Movie_Cast</th>\n",
       "      <th>Movie_Crew</th>\n",
       "      <th>Movie_Director</th>\n",
       "    </tr>\n",
       "  </thead>\n",
       "  <tbody>\n",
       "    <tr>\n",
       "      <th>0</th>\n",
       "      <td>1</td>\n",
       "      <td>Four Rooms</td>\n",
       "      <td>Crime Comedy</td>\n",
       "      <td>en</td>\n",
       "      <td>4000000</td>\n",
       "      <td>22.876230</td>\n",
       "      <td>09-12-1995</td>\n",
       "      <td>4300000</td>\n",
       "      <td>98.0</td>\n",
       "      <td>6.5</td>\n",
       "      <td>...</td>\n",
       "      <td>NaN</td>\n",
       "      <td>hotel new year's eve witch bet hotel room</td>\n",
       "      <td>It's Ted the Bellhop's first night on the job....</td>\n",
       "      <td>[{\"name\": \"Miramax Films\", \"id\": 14}, {\"name\":...</td>\n",
       "      <td>[{\"iso_3166_1\": \"US\", \"name\": \"United States o...</td>\n",
       "      <td>[{\"iso_639_1\": \"en\", \"name\": \"English\"}]</td>\n",
       "      <td>Twelve outrageous guests. Four scandalous requ...</td>\n",
       "      <td>Tim Roth Antonio Banderas Jennifer Beals Madon...</td>\n",
       "      <td>[{'name': 'Allison Anders', 'gender': 1, 'depa...</td>\n",
       "      <td>Allison Anders</td>\n",
       "    </tr>\n",
       "    <tr>\n",
       "      <th>1</th>\n",
       "      <td>2</td>\n",
       "      <td>Star Wars</td>\n",
       "      <td>Adventure Action Science Fiction</td>\n",
       "      <td>en</td>\n",
       "      <td>11000000</td>\n",
       "      <td>126.393695</td>\n",
       "      <td>25-05-1977</td>\n",
       "      <td>775398007</td>\n",
       "      <td>121.0</td>\n",
       "      <td>8.1</td>\n",
       "      <td>...</td>\n",
       "      <td>http://www.starwars.com/films/star-wars-episod...</td>\n",
       "      <td>android galaxy hermit death star lightsaber</td>\n",
       "      <td>Princess Leia is captured and held hostage by ...</td>\n",
       "      <td>[{\"name\": \"Lucasfilm\", \"id\": 1}, {\"name\": \"Twe...</td>\n",
       "      <td>[{\"iso_3166_1\": \"US\", \"name\": \"United States o...</td>\n",
       "      <td>[{\"iso_639_1\": \"en\", \"name\": \"English\"}]</td>\n",
       "      <td>A long time ago in a galaxy far, far away...</td>\n",
       "      <td>Mark Hamill Harrison Ford Carrie Fisher Peter ...</td>\n",
       "      <td>[{'name': 'George Lucas', 'gender': 2, 'depart...</td>\n",
       "      <td>George Lucas</td>\n",
       "    </tr>\n",
       "    <tr>\n",
       "      <th>2</th>\n",
       "      <td>3</td>\n",
       "      <td>Finding Nemo</td>\n",
       "      <td>Animation Family</td>\n",
       "      <td>en</td>\n",
       "      <td>94000000</td>\n",
       "      <td>85.688789</td>\n",
       "      <td>30-05-2003</td>\n",
       "      <td>940335536</td>\n",
       "      <td>100.0</td>\n",
       "      <td>7.6</td>\n",
       "      <td>...</td>\n",
       "      <td>http://movies.disney.com/finding-nemo</td>\n",
       "      <td>father son relationship harbor underwater fish...</td>\n",
       "      <td>Nemo, an adventurous young clownfish, is unexp...</td>\n",
       "      <td>[{\"name\": \"Pixar Animation Studios\", \"id\": 3}]</td>\n",
       "      <td>[{\"iso_3166_1\": \"US\", \"name\": \"United States o...</td>\n",
       "      <td>[{\"iso_639_1\": \"en\", \"name\": \"English\"}]</td>\n",
       "      <td>There are 3.7 trillion fish in the ocean, they...</td>\n",
       "      <td>Albert Brooks Ellen DeGeneres Alexander Gould ...</td>\n",
       "      <td>[{'name': 'Andrew Stanton', 'gender': 2, 'depa...</td>\n",
       "      <td>Andrew Stanton</td>\n",
       "    </tr>\n",
       "    <tr>\n",
       "      <th>3</th>\n",
       "      <td>4</td>\n",
       "      <td>Forrest Gump</td>\n",
       "      <td>Comedy Drama Romance</td>\n",
       "      <td>en</td>\n",
       "      <td>55000000</td>\n",
       "      <td>138.133331</td>\n",
       "      <td>06-07-1994</td>\n",
       "      <td>677945399</td>\n",
       "      <td>142.0</td>\n",
       "      <td>8.2</td>\n",
       "      <td>...</td>\n",
       "      <td>NaN</td>\n",
       "      <td>vietnam veteran hippie mentally disabled runni...</td>\n",
       "      <td>A man with a low IQ has accomplished great thi...</td>\n",
       "      <td>[{\"name\": \"Paramount Pictures\", \"id\": 4}]</td>\n",
       "      <td>[{\"iso_3166_1\": \"US\", \"name\": \"United States o...</td>\n",
       "      <td>[{\"iso_639_1\": \"en\", \"name\": \"English\"}]</td>\n",
       "      <td>The world will never be the same, once you've ...</td>\n",
       "      <td>Tom Hanks Robin Wright Gary Sinise Mykelti Wil...</td>\n",
       "      <td>[{'name': 'Alan Silvestri', 'gender': 2, 'depa...</td>\n",
       "      <td>Robert Zemeckis</td>\n",
       "    </tr>\n",
       "    <tr>\n",
       "      <th>4</th>\n",
       "      <td>5</td>\n",
       "      <td>American Beauty</td>\n",
       "      <td>Drama</td>\n",
       "      <td>en</td>\n",
       "      <td>15000000</td>\n",
       "      <td>80.878605</td>\n",
       "      <td>15-09-1999</td>\n",
       "      <td>356296601</td>\n",
       "      <td>122.0</td>\n",
       "      <td>7.9</td>\n",
       "      <td>...</td>\n",
       "      <td>http://www.dreamworks.com/ab/</td>\n",
       "      <td>male nudity female nudity adultery midlife cri...</td>\n",
       "      <td>Lester Burnham, a depressed suburban father in...</td>\n",
       "      <td>[{\"name\": \"DreamWorks SKG\", \"id\": 27}, {\"name\"...</td>\n",
       "      <td>[{\"iso_3166_1\": \"US\", \"name\": \"United States o...</td>\n",
       "      <td>[{\"iso_639_1\": \"en\", \"name\": \"English\"}]</td>\n",
       "      <td>Look closer.</td>\n",
       "      <td>Kevin Spacey Annette Bening Thora Birch Wes Be...</td>\n",
       "      <td>[{'name': 'Thomas Newman', 'gender': 2, 'depar...</td>\n",
       "      <td>Sam Mendes</td>\n",
       "    </tr>\n",
       "  </tbody>\n",
       "</table>\n",
       "<p>5 rows × 21 columns</p>\n",
       "</div>"
      ],
      "text/plain": [
       "   Movie_ID      Movie_Title                       Movie_Genre Movie_Language  \\\n",
       "0         1       Four Rooms                      Crime Comedy             en   \n",
       "1         2        Star Wars  Adventure Action Science Fiction             en   \n",
       "2         3     Finding Nemo                  Animation Family             en   \n",
       "3         4     Forrest Gump              Comedy Drama Romance             en   \n",
       "4         5  American Beauty                             Drama             en   \n",
       "\n",
       "   Movie_Budget  Movie_Popularity Movie_Release_Date  Movie_Revenue  \\\n",
       "0       4000000         22.876230         09-12-1995        4300000   \n",
       "1      11000000        126.393695         25-05-1977      775398007   \n",
       "2      94000000         85.688789         30-05-2003      940335536   \n",
       "3      55000000        138.133331         06-07-1994      677945399   \n",
       "4      15000000         80.878605         15-09-1999      356296601   \n",
       "\n",
       "   Movie_Runtime  Movie_Vote  ...  \\\n",
       "0           98.0         6.5  ...   \n",
       "1          121.0         8.1  ...   \n",
       "2          100.0         7.6  ...   \n",
       "3          142.0         8.2  ...   \n",
       "4          122.0         7.9  ...   \n",
       "\n",
       "                                      Movie_Homepage  \\\n",
       "0                                                NaN   \n",
       "1  http://www.starwars.com/films/star-wars-episod...   \n",
       "2              http://movies.disney.com/finding-nemo   \n",
       "3                                                NaN   \n",
       "4                      http://www.dreamworks.com/ab/   \n",
       "\n",
       "                                      Movie_Keywords  \\\n",
       "0          hotel new year's eve witch bet hotel room   \n",
       "1        android galaxy hermit death star lightsaber   \n",
       "2  father son relationship harbor underwater fish...   \n",
       "3  vietnam veteran hippie mentally disabled runni...   \n",
       "4  male nudity female nudity adultery midlife cri...   \n",
       "\n",
       "                                      Movie_Overview  \\\n",
       "0  It's Ted the Bellhop's first night on the job....   \n",
       "1  Princess Leia is captured and held hostage by ...   \n",
       "2  Nemo, an adventurous young clownfish, is unexp...   \n",
       "3  A man with a low IQ has accomplished great thi...   \n",
       "4  Lester Burnham, a depressed suburban father in...   \n",
       "\n",
       "                              Movie_Production_House  \\\n",
       "0  [{\"name\": \"Miramax Films\", \"id\": 14}, {\"name\":...   \n",
       "1  [{\"name\": \"Lucasfilm\", \"id\": 1}, {\"name\": \"Twe...   \n",
       "2     [{\"name\": \"Pixar Animation Studios\", \"id\": 3}]   \n",
       "3          [{\"name\": \"Paramount Pictures\", \"id\": 4}]   \n",
       "4  [{\"name\": \"DreamWorks SKG\", \"id\": 27}, {\"name\"...   \n",
       "\n",
       "                            Movie_Production_Country  \\\n",
       "0  [{\"iso_3166_1\": \"US\", \"name\": \"United States o...   \n",
       "1  [{\"iso_3166_1\": \"US\", \"name\": \"United States o...   \n",
       "2  [{\"iso_3166_1\": \"US\", \"name\": \"United States o...   \n",
       "3  [{\"iso_3166_1\": \"US\", \"name\": \"United States o...   \n",
       "4  [{\"iso_3166_1\": \"US\", \"name\": \"United States o...   \n",
       "\n",
       "                      Movie_Spoken_Language  \\\n",
       "0  [{\"iso_639_1\": \"en\", \"name\": \"English\"}]   \n",
       "1  [{\"iso_639_1\": \"en\", \"name\": \"English\"}]   \n",
       "2  [{\"iso_639_1\": \"en\", \"name\": \"English\"}]   \n",
       "3  [{\"iso_639_1\": \"en\", \"name\": \"English\"}]   \n",
       "4  [{\"iso_639_1\": \"en\", \"name\": \"English\"}]   \n",
       "\n",
       "                                       Movie_Tagline  \\\n",
       "0  Twelve outrageous guests. Four scandalous requ...   \n",
       "1       A long time ago in a galaxy far, far away...   \n",
       "2  There are 3.7 trillion fish in the ocean, they...   \n",
       "3  The world will never be the same, once you've ...   \n",
       "4                                       Look closer.   \n",
       "\n",
       "                                          Movie_Cast  \\\n",
       "0  Tim Roth Antonio Banderas Jennifer Beals Madon...   \n",
       "1  Mark Hamill Harrison Ford Carrie Fisher Peter ...   \n",
       "2  Albert Brooks Ellen DeGeneres Alexander Gould ...   \n",
       "3  Tom Hanks Robin Wright Gary Sinise Mykelti Wil...   \n",
       "4  Kevin Spacey Annette Bening Thora Birch Wes Be...   \n",
       "\n",
       "                                          Movie_Crew   Movie_Director  \n",
       "0  [{'name': 'Allison Anders', 'gender': 1, 'depa...   Allison Anders  \n",
       "1  [{'name': 'George Lucas', 'gender': 2, 'depart...     George Lucas  \n",
       "2  [{'name': 'Andrew Stanton', 'gender': 2, 'depa...   Andrew Stanton  \n",
       "3  [{'name': 'Alan Silvestri', 'gender': 2, 'depa...  Robert Zemeckis  \n",
       "4  [{'name': 'Thomas Newman', 'gender': 2, 'depar...       Sam Mendes  \n",
       "\n",
       "[5 rows x 21 columns]"
      ]
     },
     "execution_count": 3,
     "metadata": {},
     "output_type": "execute_result"
    }
   ],
   "source": [
    "df.head()"
   ]
  },
  {
   "cell_type": "code",
   "execution_count": 4,
   "id": "ed0953ac",
   "metadata": {},
   "outputs": [
    {
     "name": "stdout",
     "output_type": "stream",
     "text": [
      "<class 'pandas.core.frame.DataFrame'>\n",
      "RangeIndex: 4760 entries, 0 to 4759\n",
      "Data columns (total 21 columns):\n",
      " #   Column                    Non-Null Count  Dtype  \n",
      "---  ------                    --------------  -----  \n",
      " 0   Movie_ID                  4760 non-null   int64  \n",
      " 1   Movie_Title               4760 non-null   object \n",
      " 2   Movie_Genre               4760 non-null   object \n",
      " 3   Movie_Language            4760 non-null   object \n",
      " 4   Movie_Budget              4760 non-null   int64  \n",
      " 5   Movie_Popularity          4760 non-null   float64\n",
      " 6   Movie_Release_Date        4760 non-null   object \n",
      " 7   Movie_Revenue             4760 non-null   int64  \n",
      " 8   Movie_Runtime             4758 non-null   float64\n",
      " 9   Movie_Vote                4760 non-null   float64\n",
      " 10  Movie_Vote_Count          4760 non-null   int64  \n",
      " 11  Movie_Homepage            1699 non-null   object \n",
      " 12  Movie_Keywords            4373 non-null   object \n",
      " 13  Movie_Overview            4757 non-null   object \n",
      " 14  Movie_Production_House    4760 non-null   object \n",
      " 15  Movie_Production_Country  4760 non-null   object \n",
      " 16  Movie_Spoken_Language     4760 non-null   object \n",
      " 17  Movie_Tagline             3942 non-null   object \n",
      " 18  Movie_Cast                4733 non-null   object \n",
      " 19  Movie_Crew                4760 non-null   object \n",
      " 20  Movie_Director            4738 non-null   object \n",
      "dtypes: float64(3), int64(4), object(14)\n",
      "memory usage: 781.1+ KB\n"
     ]
    }
   ],
   "source": [
    "df.info()"
   ]
  },
  {
   "cell_type": "code",
   "execution_count": 5,
   "id": "4f246b4e",
   "metadata": {},
   "outputs": [
    {
     "data": {
      "text/plain": [
       "(4760, 21)"
      ]
     },
     "execution_count": 5,
     "metadata": {},
     "output_type": "execute_result"
    }
   ],
   "source": [
    "df.shape"
   ]
  },
  {
   "cell_type": "code",
   "execution_count": 6,
   "id": "15164f17",
   "metadata": {},
   "outputs": [
    {
     "data": {
      "text/plain": [
       "Index(['Movie_ID', 'Movie_Title', 'Movie_Genre', 'Movie_Language',\n",
       "       'Movie_Budget', 'Movie_Popularity', 'Movie_Release_Date',\n",
       "       'Movie_Revenue', 'Movie_Runtime', 'Movie_Vote', 'Movie_Vote_Count',\n",
       "       'Movie_Homepage', 'Movie_Keywords', 'Movie_Overview',\n",
       "       'Movie_Production_House', 'Movie_Production_Country',\n",
       "       'Movie_Spoken_Language', 'Movie_Tagline', 'Movie_Cast', 'Movie_Crew',\n",
       "       'Movie_Director'],\n",
       "      dtype='object')"
      ]
     },
     "execution_count": 6,
     "metadata": {},
     "output_type": "execute_result"
    }
   ],
   "source": [
    "df.columns"
   ]
  },
  {
   "cell_type": "code",
   "execution_count": 11,
   "id": "0a093f0d",
   "metadata": {},
   "outputs": [],
   "source": [
    "##get feature selection"
   ]
  },
  {
   "cell_type": "code",
   "execution_count": 8,
   "id": "27d14fdf",
   "metadata": {},
   "outputs": [],
   "source": [
    "df_features = df[['Movie_Genre','Movie_Keywords','Movie_Tagline','Movie_Cast','Movie_Director']].fillna('')"
   ]
  },
  {
   "cell_type": "code",
   "execution_count": 9,
   "id": "e5f90aea",
   "metadata": {},
   "outputs": [
    {
     "data": {
      "text/plain": [
       "(4760, 5)"
      ]
     },
     "execution_count": 9,
     "metadata": {},
     "output_type": "execute_result"
    }
   ],
   "source": [
    "df_features.shape"
   ]
  },
  {
   "cell_type": "code",
   "execution_count": 10,
   "id": "def9a030",
   "metadata": {},
   "outputs": [
    {
     "data": {
      "text/html": [
       "<div>\n",
       "<style scoped>\n",
       "    .dataframe tbody tr th:only-of-type {\n",
       "        vertical-align: middle;\n",
       "    }\n",
       "\n",
       "    .dataframe tbody tr th {\n",
       "        vertical-align: top;\n",
       "    }\n",
       "\n",
       "    .dataframe thead th {\n",
       "        text-align: right;\n",
       "    }\n",
       "</style>\n",
       "<table border=\"1\" class=\"dataframe\">\n",
       "  <thead>\n",
       "    <tr style=\"text-align: right;\">\n",
       "      <th></th>\n",
       "      <th>Movie_Genre</th>\n",
       "      <th>Movie_Keywords</th>\n",
       "      <th>Movie_Tagline</th>\n",
       "      <th>Movie_Cast</th>\n",
       "      <th>Movie_Director</th>\n",
       "    </tr>\n",
       "  </thead>\n",
       "  <tbody>\n",
       "    <tr>\n",
       "      <th>0</th>\n",
       "      <td>Crime Comedy</td>\n",
       "      <td>hotel new year's eve witch bet hotel room</td>\n",
       "      <td>Twelve outrageous guests. Four scandalous requ...</td>\n",
       "      <td>Tim Roth Antonio Banderas Jennifer Beals Madon...</td>\n",
       "      <td>Allison Anders</td>\n",
       "    </tr>\n",
       "    <tr>\n",
       "      <th>1</th>\n",
       "      <td>Adventure Action Science Fiction</td>\n",
       "      <td>android galaxy hermit death star lightsaber</td>\n",
       "      <td>A long time ago in a galaxy far, far away...</td>\n",
       "      <td>Mark Hamill Harrison Ford Carrie Fisher Peter ...</td>\n",
       "      <td>George Lucas</td>\n",
       "    </tr>\n",
       "    <tr>\n",
       "      <th>2</th>\n",
       "      <td>Animation Family</td>\n",
       "      <td>father son relationship harbor underwater fish...</td>\n",
       "      <td>There are 3.7 trillion fish in the ocean, they...</td>\n",
       "      <td>Albert Brooks Ellen DeGeneres Alexander Gould ...</td>\n",
       "      <td>Andrew Stanton</td>\n",
       "    </tr>\n",
       "    <tr>\n",
       "      <th>3</th>\n",
       "      <td>Comedy Drama Romance</td>\n",
       "      <td>vietnam veteran hippie mentally disabled runni...</td>\n",
       "      <td>The world will never be the same, once you've ...</td>\n",
       "      <td>Tom Hanks Robin Wright Gary Sinise Mykelti Wil...</td>\n",
       "      <td>Robert Zemeckis</td>\n",
       "    </tr>\n",
       "    <tr>\n",
       "      <th>4</th>\n",
       "      <td>Drama</td>\n",
       "      <td>male nudity female nudity adultery midlife cri...</td>\n",
       "      <td>Look closer.</td>\n",
       "      <td>Kevin Spacey Annette Bening Thora Birch Wes Be...</td>\n",
       "      <td>Sam Mendes</td>\n",
       "    </tr>\n",
       "    <tr>\n",
       "      <th>...</th>\n",
       "      <td>...</td>\n",
       "      <td>...</td>\n",
       "      <td>...</td>\n",
       "      <td>...</td>\n",
       "      <td>...</td>\n",
       "    </tr>\n",
       "    <tr>\n",
       "      <th>4755</th>\n",
       "      <td>Horror</td>\n",
       "      <td></td>\n",
       "      <td>The hot spot where Satan's waitin'.</td>\n",
       "      <td>Lisa Hart Carroll Michael Des Barres Paul Drak...</td>\n",
       "      <td>Pece Dingo</td>\n",
       "    </tr>\n",
       "    <tr>\n",
       "      <th>4756</th>\n",
       "      <td>Comedy Family Drama</td>\n",
       "      <td></td>\n",
       "      <td>It’s better to stand out than to fit in.</td>\n",
       "      <td>Roni Akurati Brighton Sharbino Jason Lee Anjul...</td>\n",
       "      <td>Frank Lotito</td>\n",
       "    </tr>\n",
       "    <tr>\n",
       "      <th>4757</th>\n",
       "      <td>Thriller Drama</td>\n",
       "      <td>christian film sex trafficking</td>\n",
       "      <td>She never knew it could happen to her...</td>\n",
       "      <td>Nicole Smolen Kim Baldwin Ariana Stephens Brys...</td>\n",
       "      <td>Jaco Booyens</td>\n",
       "    </tr>\n",
       "    <tr>\n",
       "      <th>4758</th>\n",
       "      <td>Family</td>\n",
       "      <td></td>\n",
       "      <td></td>\n",
       "      <td></td>\n",
       "      <td></td>\n",
       "    </tr>\n",
       "    <tr>\n",
       "      <th>4759</th>\n",
       "      <td>Documentary</td>\n",
       "      <td>music actors legendary perfomer classic hollyw...</td>\n",
       "      <td></td>\n",
       "      <td>Tony Oppedisano</td>\n",
       "      <td>Simon Napier-Bell</td>\n",
       "    </tr>\n",
       "  </tbody>\n",
       "</table>\n",
       "<p>4760 rows × 5 columns</p>\n",
       "</div>"
      ],
      "text/plain": [
       "                           Movie_Genre  \\\n",
       "0                         Crime Comedy   \n",
       "1     Adventure Action Science Fiction   \n",
       "2                     Animation Family   \n",
       "3                 Comedy Drama Romance   \n",
       "4                                Drama   \n",
       "...                                ...   \n",
       "4755                            Horror   \n",
       "4756               Comedy Family Drama   \n",
       "4757                    Thriller Drama   \n",
       "4758                            Family   \n",
       "4759                       Documentary   \n",
       "\n",
       "                                         Movie_Keywords  \\\n",
       "0             hotel new year's eve witch bet hotel room   \n",
       "1           android galaxy hermit death star lightsaber   \n",
       "2     father son relationship harbor underwater fish...   \n",
       "3     vietnam veteran hippie mentally disabled runni...   \n",
       "4     male nudity female nudity adultery midlife cri...   \n",
       "...                                                 ...   \n",
       "4755                                                      \n",
       "4756                                                      \n",
       "4757                     christian film sex trafficking   \n",
       "4758                                                      \n",
       "4759  music actors legendary perfomer classic hollyw...   \n",
       "\n",
       "                                          Movie_Tagline  \\\n",
       "0     Twelve outrageous guests. Four scandalous requ...   \n",
       "1          A long time ago in a galaxy far, far away...   \n",
       "2     There are 3.7 trillion fish in the ocean, they...   \n",
       "3     The world will never be the same, once you've ...   \n",
       "4                                          Look closer.   \n",
       "...                                                 ...   \n",
       "4755                The hot spot where Satan's waitin'.   \n",
       "4756           It’s better to stand out than to fit in.   \n",
       "4757           She never knew it could happen to her...   \n",
       "4758                                                      \n",
       "4759                                                      \n",
       "\n",
       "                                             Movie_Cast     Movie_Director  \n",
       "0     Tim Roth Antonio Banderas Jennifer Beals Madon...     Allison Anders  \n",
       "1     Mark Hamill Harrison Ford Carrie Fisher Peter ...       George Lucas  \n",
       "2     Albert Brooks Ellen DeGeneres Alexander Gould ...     Andrew Stanton  \n",
       "3     Tom Hanks Robin Wright Gary Sinise Mykelti Wil...    Robert Zemeckis  \n",
       "4     Kevin Spacey Annette Bening Thora Birch Wes Be...         Sam Mendes  \n",
       "...                                                 ...                ...  \n",
       "4755  Lisa Hart Carroll Michael Des Barres Paul Drak...         Pece Dingo  \n",
       "4756  Roni Akurati Brighton Sharbino Jason Lee Anjul...       Frank Lotito  \n",
       "4757  Nicole Smolen Kim Baldwin Ariana Stephens Brys...       Jaco Booyens  \n",
       "4758                                                                        \n",
       "4759                                    Tony Oppedisano  Simon Napier-Bell  \n",
       "\n",
       "[4760 rows x 5 columns]"
      ]
     },
     "execution_count": 10,
     "metadata": {},
     "output_type": "execute_result"
    }
   ],
   "source": [
    "df_features"
   ]
  },
  {
   "cell_type": "code",
   "execution_count": 12,
   "id": "09c05274",
   "metadata": {},
   "outputs": [],
   "source": [
    "x = df_features['Movie_Genre']+ ' ' +df_features['Movie_Keywords']+ ' ' +df_features['Movie_Tagline']+ ' ' +df_features['Movie_Cast']+' ' + df_features['Movie_Director']"
   ]
  },
  {
   "cell_type": "code",
   "execution_count": 13,
   "id": "caa9525d",
   "metadata": {},
   "outputs": [
    {
     "data": {
      "text/plain": [
       "0       Crime Comedy hotel new year's eve witch bet ho...\n",
       "1       Adventure Action Science Fiction android galax...\n",
       "2       Animation Family father son relationship harbo...\n",
       "3       Comedy Drama Romance vietnam veteran hippie me...\n",
       "4       Drama male nudity female nudity adultery midli...\n",
       "                              ...                        \n",
       "4755    Horror  The hot spot where Satan's waitin'. Li...\n",
       "4756    Comedy Family Drama  It’s better to stand out ...\n",
       "4757    Thriller Drama christian film sex trafficking ...\n",
       "4758                                           Family    \n",
       "4759    Documentary music actors legendary perfomer cl...\n",
       "Length: 4760, dtype: object"
      ]
     },
     "execution_count": 13,
     "metadata": {},
     "output_type": "execute_result"
    }
   ],
   "source": [
    "x"
   ]
  },
  {
   "cell_type": "code",
   "execution_count": 14,
   "id": "11b9a0e1",
   "metadata": {},
   "outputs": [
    {
     "data": {
      "text/plain": [
       "(4760,)"
      ]
     },
     "execution_count": 14,
     "metadata": {},
     "output_type": "execute_result"
    }
   ],
   "source": [
    "x.shape"
   ]
  },
  {
   "cell_type": "code",
   "execution_count": 15,
   "id": "20510ded",
   "metadata": {},
   "outputs": [],
   "source": [
    "##get feature tex conversion to tokens"
   ]
  },
  {
   "cell_type": "code",
   "execution_count": 16,
   "id": "ecf4c0cb",
   "metadata": {},
   "outputs": [],
   "source": [
    "from sklearn.feature_extraction.text import TfidfVectorizer"
   ]
  },
  {
   "cell_type": "code",
   "execution_count": 17,
   "id": "49ab2e38",
   "metadata": {},
   "outputs": [],
   "source": [
    "tfidf = TfidfVectorizer()"
   ]
  },
  {
   "cell_type": "code",
   "execution_count": 19,
   "id": "19d92399",
   "metadata": {},
   "outputs": [],
   "source": [
    "x = tfidf.fit_transform(x)"
   ]
  },
  {
   "cell_type": "code",
   "execution_count": 20,
   "id": "fa144258",
   "metadata": {},
   "outputs": [
    {
     "data": {
      "text/plain": [
       "(4760, 17258)"
      ]
     },
     "execution_count": 20,
     "metadata": {},
     "output_type": "execute_result"
    }
   ],
   "source": [
    "x.shape"
   ]
  },
  {
   "cell_type": "code",
   "execution_count": 21,
   "id": "1983c68e",
   "metadata": {},
   "outputs": [
    {
     "name": "stdout",
     "output_type": "stream",
     "text": [
      "  (0, 617)\t0.1633382144407513\n",
      "  (0, 492)\t0.1432591540388685\n",
      "  (0, 15413)\t0.1465525095337543\n",
      "  (0, 9675)\t0.14226057295252661\n",
      "  (0, 9465)\t0.1659841367820977\n",
      "  (0, 1390)\t0.16898383612799558\n",
      "  (0, 7825)\t0.09799561597509843\n",
      "  (0, 1214)\t0.13865857545144072\n",
      "  (0, 729)\t0.13415063359531618\n",
      "  (0, 13093)\t0.1432591540388685\n",
      "  (0, 15355)\t0.10477815972666779\n",
      "  (0, 9048)\t0.0866842116160778\n",
      "  (0, 11161)\t0.06250380151644369\n",
      "  (0, 16773)\t0.17654247479915475\n",
      "  (0, 5612)\t0.08603537588547631\n",
      "  (0, 16735)\t0.10690083751525419\n",
      "  (0, 7904)\t0.13348000542112332\n",
      "  (0, 15219)\t0.09800472886453934\n",
      "  (0, 11242)\t0.07277788238484746\n",
      "  (0, 3878)\t0.11998399582562203\n",
      "  (0, 5499)\t0.11454057510303811\n",
      "  (0, 7071)\t0.19822417598406614\n",
      "  (0, 7454)\t0.14745635785412262\n",
      "  (0, 1495)\t0.19712637387361423\n",
      "  (0, 9206)\t0.15186283580984414\n",
      "  :\t:\n",
      "  (4757, 5455)\t0.12491480594769522\n",
      "  (4757, 2967)\t0.16273475835631626\n",
      "  (4757, 8464)\t0.23522565554066333\n",
      "  (4757, 6938)\t0.17088173678136628\n",
      "  (4757, 8379)\t0.17480603856721913\n",
      "  (4757, 15303)\t0.07654356007668191\n",
      "  (4757, 15384)\t0.09754322497537371\n",
      "  (4757, 7649)\t0.11479421494340192\n",
      "  (4757, 10896)\t0.14546473055066447\n",
      "  (4757, 4494)\t0.05675298448720501\n",
      "  (4758, 5238)\t1.0\n",
      "  (4759, 11264)\t0.33947721804318337\n",
      "  (4759, 11708)\t0.33947721804318337\n",
      "  (4759, 205)\t0.3237911628497312\n",
      "  (4759, 8902)\t0.3040290704566037\n",
      "  (4759, 14062)\t0.3237911628497312\n",
      "  (4759, 3058)\t0.2812896191863103\n",
      "  (4759, 7130)\t0.26419662449963793\n",
      "  (4759, 10761)\t0.3126617295732147\n",
      "  (4759, 4358)\t0.18306542312175342\n",
      "  (4759, 14051)\t0.20084315377640435\n",
      "  (4759, 5690)\t0.19534291014627303\n",
      "  (4759, 15431)\t0.19628653185946862\n",
      "  (4759, 1490)\t0.21197258705292082\n",
      "  (4759, 10666)\t0.15888268987343043\n"
     ]
    }
   ],
   "source": [
    "print(x)"
   ]
  },
  {
   "cell_type": "code",
   "execution_count": 22,
   "id": "a55c25b6",
   "metadata": {},
   "outputs": [],
   "source": [
    "##get similarity score using cosine similarity"
   ]
  },
  {
   "cell_type": "code",
   "execution_count": 23,
   "id": "3a4b2272",
   "metadata": {},
   "outputs": [],
   "source": [
    "from sklearn.metrics.pairwise import cosine_similarity"
   ]
  },
  {
   "cell_type": "code",
   "execution_count": 24,
   "id": "b540534e",
   "metadata": {},
   "outputs": [],
   "source": [
    "similarity_score = cosine_similarity(x)"
   ]
  },
  {
   "cell_type": "code",
   "execution_count": 25,
   "id": "dadf2ef9",
   "metadata": {},
   "outputs": [
    {
     "data": {
      "text/plain": [
       "array([[1.        , 0.01351235, 0.03570468, ..., 0.        , 0.        ,\n",
       "        0.        ],\n",
       "       [0.01351235, 1.        , 0.00806674, ..., 0.        , 0.        ,\n",
       "        0.        ],\n",
       "       [0.03570468, 0.00806674, 1.        , ..., 0.        , 0.08014876,\n",
       "        0.        ],\n",
       "       ...,\n",
       "       [0.        , 0.        , 0.        , ..., 1.        , 0.        ,\n",
       "        0.        ],\n",
       "       [0.        , 0.        , 0.08014876, ..., 0.        , 1.        ,\n",
       "        0.        ],\n",
       "       [0.        , 0.        , 0.        , ..., 0.        , 0.        ,\n",
       "        1.        ]])"
      ]
     },
     "execution_count": 25,
     "metadata": {},
     "output_type": "execute_result"
    }
   ],
   "source": [
    "similarity_score"
   ]
  },
  {
   "cell_type": "code",
   "execution_count": 26,
   "id": "43fe42e3",
   "metadata": {},
   "outputs": [
    {
     "data": {
      "text/plain": [
       "(4760, 4760)"
      ]
     },
     "execution_count": 26,
     "metadata": {},
     "output_type": "execute_result"
    }
   ],
   "source": [
    "similarity_score.shape"
   ]
  },
  {
   "cell_type": "code",
   "execution_count": 27,
   "id": "0dfe9215",
   "metadata": {},
   "outputs": [],
   "source": [
    "##get movie name as input from user and variable for closest spelling"
   ]
  },
  {
   "cell_type": "code",
   "execution_count": 28,
   "id": "9cba3c9d",
   "metadata": {},
   "outputs": [
    {
     "name": "stdout",
     "output_type": "stream",
     "text": [
      "Enter your favourite movie name: interstellar\n"
     ]
    }
   ],
   "source": [
    "favourite_movie_name = input('Enter your favourite movie name: ')"
   ]
  },
  {
   "cell_type": "code",
   "execution_count": 29,
   "id": "62808545",
   "metadata": {},
   "outputs": [],
   "source": [
    "all_movies_title_list = df['Movie_Title'].tolist()"
   ]
  },
  {
   "cell_type": "code",
   "execution_count": 30,
   "id": "c5f2636b",
   "metadata": {},
   "outputs": [],
   "source": [
    "import difflib"
   ]
  },
  {
   "cell_type": "code",
   "execution_count": 31,
   "id": "f254d333",
   "metadata": {},
   "outputs": [
    {
     "name": "stdout",
     "output_type": "stream",
     "text": [
      "['Interstellar', 'Cinderella', 'Cinderella Man']\n"
     ]
    }
   ],
   "source": [
    "movie_recommendation = difflib.get_close_matches(favourite_movie_name, all_movies_title_list)\n",
    "print(movie_recommendation)"
   ]
  },
  {
   "cell_type": "code",
   "execution_count": 34,
   "id": "19bd5bb6",
   "metadata": {},
   "outputs": [],
   "source": [
    "close_match=movie_recommendation[0]"
   ]
  },
  {
   "cell_type": "code",
   "execution_count": 35,
   "id": "6780df8f",
   "metadata": {},
   "outputs": [
    {
     "name": "stdout",
     "output_type": "stream",
     "text": [
      "4157\n"
     ]
    }
   ],
   "source": [
    "index_of_close_match_movie = df[df.Movie_Title == close_match]['Movie_ID'].values[0]\n",
    "print(index_of_close_match_movie)"
   ]
  },
  {
   "cell_type": "code",
   "execution_count": 37,
   "id": "8fc05ecd",
   "metadata": {},
   "outputs": [],
   "source": [
    "recommendation_score=list(enumerate(similarity_score[index_of_close_match_movie]))"
   ]
  },
  {
   "cell_type": "code",
   "execution_count": 38,
   "id": "f78bf16d",
   "metadata": {},
   "outputs": [
    {
     "data": {
      "text/plain": [
       "4760"
      ]
     },
     "execution_count": 38,
     "metadata": {},
     "output_type": "execute_result"
    }
   ],
   "source": [
    "len(recommendation_score)"
   ]
  },
  {
   "cell_type": "code",
   "execution_count": 39,
   "id": "f1fedd34",
   "metadata": {},
   "outputs": [],
   "source": [
    "##get all movies sort based on recommendation score with respect to(wrt) favourite movie"
   ]
  },
  {
   "cell_type": "code",
   "execution_count": 40,
   "id": "09b4a57a",
   "metadata": {},
   "outputs": [
    {
     "name": "stdout",
     "output_type": "stream",
     "text": [
      "[(4157, 1.0000000000000002), (475, 0.15680059114102857), (3632, 0.15260920904525524), (681, 0.13644416761583453), (725, 0.13312587357465921), (2773, 0.1324957644217407), (517, 0.13076462394893593), (2789, 0.12400546387008175), (713, 0.122732813739338), (3724, 0.11807931399006524), (601, 0.1080802291568039), (3363, 0.1014536516232783), (3067, 0.09470292906284437), (4031, 0.09373318420231164), (3311, 0.09180708331893508), (4758, 0.09153537231190241), (2194, 0.08665058241182359), (2419, 0.08638766472849745), (1378, 0.0834757937794312), (1279, 0.08249377848339634), (273, 0.08107451530001922), (1586, 0.08083703806774152), (4585, 0.07817606869893813), (1648, 0.07564451243799764), (3809, 0.07549980659434066), (2592, 0.07475069773008641), (799, 0.07182348492165805), (3881, 0.07180734783294566), (2278, 0.07007320097902649), (3157, 0.06961604816677183), (3607, 0.0693500090425837), (2538, 0.06830538067051896), (2382, 0.0681314019485978), (4360, 0.06746654413690722), (2008, 0.0673691918562661), (2413, 0.06680155468763926), (3228, 0.06650900233739834), (3682, 0.0640846437715029), (700, 0.06337571880710337), (3124, 0.06336679917991596), (4200, 0.06292410511293417), (376, 0.06290470304596582), (580, 0.06282098571241576), (4515, 0.062054921853615316), (1929, 0.06151580150210258), (1724, 0.060907090068940246), (2037, 0.060861682161647265), (657, 0.06059692804649178), (1464, 0.060321930693517774), (338, 0.05992262011120454), (1899, 0.05952872022633188), (3376, 0.05899282149039603), (953, 0.05830555392925382), (3211, 0.05786238654166709), (4359, 0.057417294386683505), (442, 0.05728264363361414), (2517, 0.0568858925494295), (2066, 0.05652651870561427), (4090, 0.0561426261537795), (1526, 0.05594257128393315), (3692, 0.055224829904119956), (2779, 0.05464073674849863), (992, 0.05463207217239281), (1619, 0.054619657387035864), (1600, 0.05454602316540628), (3245, 0.05454486616141389), (4478, 0.05429191219880679), (1401, 0.05416030029783091), (231, 0.053784584457841934), (1033, 0.05349465729490378), (1925, 0.05337658203383336), (3445, 0.053358535697058965), (2565, 0.05330341436236431), (196, 0.05282442412759406), (3644, 0.05278298350846478), (620, 0.05270453332203004), (812, 0.052659315137122), (1165, 0.05260205882604793), (730, 0.05228829608260149), (1168, 0.05178054868560004), (2177, 0.05173617738024802), (1294, 0.05158308123938843), (1098, 0.05100188148015939), (2174, 0.050840001741274454), (878, 0.05074225628978705), (2416, 0.050496662426066624), (3747, 0.04992696315255882), (25, 0.04983776817409855), (2021, 0.049570332418828175), (3288, 0.0491639006382147), (1723, 0.04905540635850116), (3975, 0.048908798606136235), (2531, 0.04889512297473971), (4241, 0.04867249615602176), (902, 0.048490744765248214), (1709, 0.04848758005683678), (4032, 0.04821647537145721), (189, 0.04821059552795511), (2205, 0.048010185965540145), (814, 0.04796882792245527), (1663, 0.047839844640886815), (4574, 0.04781619980616619), (1123, 0.047755206815453984), (207, 0.04770093181605787), (4370, 0.04769513377420595), (1144, 0.04748432500866803), (1533, 0.04736836975729077), (2903, 0.04735953647037985), (1270, 0.04698093253943286), (4337, 0.04678338476026765), (1754, 0.04652160442155408), (2123, 0.046223820271567025), (3818, 0.04616934978184657), (341, 0.04580421195483261), (2973, 0.045800067675938895), (2136, 0.045769731638694716), (4495, 0.04523445271777604), (1711, 0.044571379694087046), (1948, 0.044511393561979994), (354, 0.04434732580060737), (1439, 0.04421785008289768), (2678, 0.04396029195121798), (1052, 0.04371168987577475), (1068, 0.04366548182609079), (2682, 0.04356154095893305), (3932, 0.04321795698654186), (1920, 0.04317645220722395), (3395, 0.04316339461806178), (4099, 0.043109276957221464), (43, 0.0430091797846632), (3520, 0.042751816758558596), (2603, 0.04259170204082926), (1095, 0.04258833417614154), (2058, 0.04256330240693701), (2547, 0.04241426618638337), (4377, 0.042400025917426976), (925, 0.04238589081755166), (2182, 0.04224578913585557), (508, 0.04200912260291927), (2525, 0.04195190033632642), (1016, 0.041861181228738754), (2269, 0.04125138711425575), (92, 0.041236251878259224), (1205, 0.041010285818729605), (2046, 0.0407084025245831), (4551, 0.04068792645897092), (261, 0.040677848394527), (2112, 0.0406391951709271), (1883, 0.04046303838762545), (3437, 0.04034932079500587), (3096, 0.0403162838985156), (2107, 0.04022661921797227), (1953, 0.04014354523688225), (2976, 0.04009006750661582), (2319, 0.040062376300934614), (2070, 0.04001957363986974), (1997, 0.03994425972827243), (3671, 0.03980647784962195), (2996, 0.03973350762317841), (4431, 0.039318285027248184), (810, 0.039314139261245676), (2644, 0.039312415578918264), (39, 0.039287370861703426), (4236, 0.03905637510483499), (44, 0.039005341568274184), (1452, 0.038963390660140824), (1930, 0.03896297401456096), (1555, 0.03889338826359871), (506, 0.03883614265851835), (2005, 0.03879667843373189), (1568, 0.038399713212927414), (3294, 0.038354281504935285), (2196, 0.038284479693053756), (2031, 0.03820827761265978), (2785, 0.03804542566363729), (1494, 0.03787529366594546), (368, 0.03786930297275861), (3023, 0.03773534231759857), (271, 0.03768051989252738), (4477, 0.0376293739006089), (4281, 0.03722620015590318), (2430, 0.037224206902357435), (2507, 0.03715215652799895), (1191, 0.03691031576242423), (749, 0.03678741981452205), (2215, 0.03672555482545528), (4523, 0.036701240607534644), (2638, 0.03659601321115787), (3938, 0.036243712348313875), (4001, 0.03616588535937688), (4401, 0.03604744566023914), (250, 0.036041654413852625), (3639, 0.03598824964520628), (3811, 0.03587334565125775), (312, 0.035788655807173615), (4172, 0.035684592363421135), (556, 0.03563338037081296), (1192, 0.03561197799115133), (3181, 0.035600224732929175), (748, 0.035497806585491475), (2539, 0.03543046412277289), (2832, 0.03542368797095552), (3141, 0.03534770194021223), (2436, 0.03526107795569174), (1217, 0.03518576030123708), (2948, 0.03515123696747925), (798, 0.03508516323053779), (462, 0.03486476164634398), (1509, 0.034848585792227695), (4639, 0.034843411843476495), (3010, 0.0348161589894704), (2440, 0.03473305297600027), (1968, 0.03456575373056954), (2637, 0.03449952858615034), (1140, 0.034487011074142516), (2688, 0.034313370514140545), (1442, 0.034225262596511465), (1687, 0.03415020091260424), (4290, 0.03410322603905612), (4675, 0.03407209105013143), (2317, 0.0340685752376481), (2755, 0.03405824928894963), (4012, 0.03397785146206361), (844, 0.03389346696761458), (3222, 0.03381580235216831), (2940, 0.03372065507046561), (1660, 0.0336530247205794), (2180, 0.03364529644372719), (3218, 0.03363426544786398), (1477, 0.03363416565789283), (2301, 0.03356145823099754), (1336, 0.03350452343952176), (1691, 0.03338524730038417), (1241, 0.03334172151789228), (3259, 0.03327197023923849), (1964, 0.03323426679687918), (3330, 0.03311587781819305), (1768, 0.033115423019596434), (3870, 0.03298244965294571), (3698, 0.03290436494848004), (2510, 0.032871769961167085), (750, 0.03286966530665225), (1593, 0.0327116178873476), (83, 0.032639154927212026), (864, 0.032546180953931005), (621, 0.032519996948636144), (1825, 0.03251365825900274), (3741, 0.03242615476674151), (3491, 0.032335492531075594), (2178, 0.03232117581443006), (2376, 0.032253171141405364), (2198, 0.032194318947501244), (2153, 0.03215361229227662), (2719, 0.03205631659994776), (1384, 0.03204182911401359), (1356, 0.03201827629348833), (1996, 0.03199524162537785), (988, 0.031991873092141715), (4215, 0.0318424813078851), (3645, 0.031831572247862094), (733, 0.03181035120153874), (166, 0.03179500181167798), (963, 0.03177215436047069), (344, 0.03176984578283744), (529, 0.031743823462853454), (3090, 0.031726807071335066), (1338, 0.031679069922719856), (2807, 0.03159822967108693), (97, 0.0315938644193855), (3238, 0.0315742399968581), (1617, 0.031444443472959355), (2981, 0.031406602756539455), (2555, 0.03135934788759089), (2281, 0.031253169970207516), (3408, 0.031214851093800452), (2139, 0.031186630324507407), (484, 0.031139647488652823), (2660, 0.031120022357898416), (1992, 0.03110884279574737), (1969, 0.031083372180796), (1662, 0.030970036408680717), (3562, 0.030951132187795626), (1516, 0.030910508862397598), (4643, 0.03087357957117202), (3878, 0.03079248067076641), (179, 0.03067107571864089), (555, 0.030639977885477853), (898, 0.030619345887924886), (3390, 0.0304690552043389), (1926, 0.030467541220682362), (2782, 0.03044818682870188), (4292, 0.030346697111555986), (2006, 0.030311520950189207), (2179, 0.030309395592403223), (307, 0.030263370319794924), (4492, 0.030200448397618707), (3146, 0.030192498301293367), (1805, 0.03012820029550012), (1300, 0.030053988648917652), (2442, 0.030006126905283773), (2614, 0.029943391680579766), (511, 0.029914712340006745), (399, 0.02989587984901661), (1015, 0.0298918727614729), (4402, 0.029782699316534073), (1776, 0.02977563843321373), (1571, 0.029764801961637125), (1606, 0.02974877441861371), (2452, 0.02961277028382985), (1139, 0.029576908145630586), (180, 0.029549818468197483), (1875, 0.02950778399631891), (4006, 0.0294161628902549), (246, 0.02940800817663668), (2273, 0.029362495397071836), (957, 0.029341330435760034), (2834, 0.029257705916324823), (4662, 0.0291783255729417), (1239, 0.029166124113875504), (3357, 0.029122045674368838), (590, 0.029077408428095117), (3459, 0.02899450203636322), (2670, 0.02889218612178405), (1863, 0.028869328608216303), (1561, 0.02884933477007134), (1254, 0.0288394376341666), (1090, 0.028683993726010267), (3790, 0.028662512519139302), (1425, 0.028599665151450352), (4334, 0.028580593024358215), (2711, 0.028559081098779696), (4158, 0.02853143195608314), (834, 0.028439320781421723), (739, 0.02838716468603311), (1009, 0.02836925255069471), (3910, 0.028325636681956364), (327, 0.028301109230146393), (4340, 0.028289794171591276), (4389, 0.028186300060349324), (1762, 0.028144784953206783), (3803, 0.02811412350867007), (410, 0.028102623239487853), (1882, 0.028093186758177898), (4341, 0.02794401038551315), (495, 0.027903745369294294), (3606, 0.027888994686254928), (1966, 0.02786102391929838), (2353, 0.02779110370324319), (1756, 0.02775596228670752), (1901, 0.027663623704555475), (2769, 0.027653488739334684), (3384, 0.027647893493989793), (1769, 0.02764105848651917), (3209, 0.02760586810413038), (2736, 0.02751497733956597), (2504, 0.027448781146190107), (1365, 0.027420297932040268), (1633, 0.027397348631643857), (2019, 0.027387674926258973), (3200, 0.027367003273561247), (870, 0.027364180113089078), (1913, 0.027214004102406), (100, 0.027208068446327095), (773, 0.02719643730750532), (4108, 0.02718669757963079), (4010, 0.02718179727635798), (1312, 0.027181137675688964), (724, 0.027164204573142524), (1876, 0.027147618072053296), (263, 0.027136777128125757), (835, 0.027110067892146206), (2560, 0.027066492266483062), (563, 0.02706445486602423), (1527, 0.027062991478483938), (411, 0.027016065332861848), (2111, 0.027012635443411794), (965, 0.026933527327237694), (1060, 0.02693343843493514), (1004, 0.02690229656936796), (2267, 0.0268602865082239), (3751, 0.026852130438156), (3550, 0.026842067448243388), (833, 0.026834141734005862), (459, 0.026797239716633517), (3855, 0.026769575952480647), (2577, 0.02675057330351562), (1109, 0.026745171947660178), (2461, 0.026738073695742073), (4155, 0.02673519989634323), (4165, 0.026648115835510272), (267, 0.02664810724504575), (2841, 0.02664460448366201), (3366, 0.026633178185644826), (4109, 0.02663223328800052), (763, 0.026565262726477103), (4454, 0.02650764538305949), (3503, 0.02644345773470731), (960, 0.02640218945095111), (3130, 0.02636199219094705), (3385, 0.026258308755186685), (1363, 0.026243639767785817), (1701, 0.026241669765578804), (4259, 0.02616670419168452), (4531, 0.02613545760155169), (2467, 0.026042462632251597), (686, 0.026035735704853426), (3024, 0.026012536363392617), (334, 0.026001988882263825), (4366, 0.025982467757071276), (4009, 0.025976493300717544), (1451, 0.025861958733052158), (367, 0.025858241432076115), (3389, 0.025856256021433034), (1426, 0.025741299755237076), (1714, 0.02570356782246984), (3183, 0.025655477474371937), (2119, 0.02565249167521422), (4601, 0.02564370327943531), (930, 0.02560090196991865), (1760, 0.025566769857221804), (3077, 0.025490805385356134), (794, 0.025458313330306594), (1820, 0.02543688558885132), (583, 0.02536987116926062), (1610, 0.02532480174825713), (1798, 0.025317124634732076), (3977, 0.025303714740226534), (2207, 0.025246841167874484), (3, 0.025209256083111097), (471, 0.025207149023173413), (1000, 0.025170752823717845), (2704, 0.025110054492228775), (710, 0.025076140307531573), (2272, 0.025072019446578036), (616, 0.025012170823929116), (653, 0.0249495965331602), (2963, 0.024940908387944723), (3264, 0.024901341768355612), (2485, 0.024866342260582187), (470, 0.02484548730521869), (4054, 0.02484257823263921), (4447, 0.024815849092929852), (4596, 0.024801085628049724), (2790, 0.024795525127080317), (2147, 0.024793956948319793), (4123, 0.02473763840945837), (1718, 0.024719291796767764), (224, 0.024685073625956917), (3777, 0.024680275010350628), (2047, 0.024667681221892966), (1295, 0.024633365042488597), (1496, 0.024632074987003448), (20, 0.024505552968148655), (1351, 0.024505489443279935), (634, 0.024438432145598786), (1881, 0.0244320026088238), (1465, 0.02439612065379109), (2541, 0.02433178579823275), (1521, 0.02428071521975403), (778, 0.024269689957550966), (874, 0.024266566375580157), (631, 0.0242477038976333), (607, 0.024230641502295876), (4287, 0.024204719093308794), (369, 0.024145103052140314), (4189, 0.024122699267924444), (135, 0.024098916917780176), (1860, 0.024094366351888653), (2503, 0.024092982264749076), (2126, 0.024089760824308616), (2235, 0.024074442158079325), (2234, 0.0240627421143429), (1958, 0.02404541521707496), (3169, 0.024018127822686208), (3272, 0.023976002762080534), (652, 0.02396391541058572), (1857, 0.023918964352319882), (288, 0.023896913241160004), (2746, 0.023821496877884596), (343, 0.02376176856674852), (3739, 0.023615732357469506), (1374, 0.023599975209924243), (2606, 0.02359045943539815), (4364, 0.023579653754956645), (3436, 0.02357928607759597), (79, 0.023509392971920683), (1131, 0.02350684060192652), (163, 0.023455578634655763), (1420, 0.023443123880012736), (4114, 0.02342649811701579), (1238, 0.023422166450366756), (1986, 0.023322905575122364), (1262, 0.023296664221020235), (2496, 0.0232645575278086), (1678, 0.02322546982064247), (1438, 0.02320234899506359), (1537, 0.023186239600186904), (2463, 0.02318101803463791), (3381, 0.02314889689237275), (1059, 0.023122414952100424), (1222, 0.023117777195934584), (3461, 0.023084537446086316), (1623, 0.023036353410100286), (1771, 0.022966857418114238), (2962, 0.022952354014782204), (4362, 0.02294025928610413), (2713, 0.022883479765581978), (1919, 0.02285216173849904), (1578, 0.022809275127536527), (3172, 0.022779658531505716), (2095, 0.022750976168604845), (2027, 0.022748290532226646), (329, 0.022727612841010138), (112, 0.022704093115238775), (138, 0.022643709467718928), (1247, 0.02262887758657421), (4193, 0.022623756714009742), (3746, 0.022618246037052304), (3474, 0.022605121551569764), (1839, 0.02249649316657736), (284, 0.0224905572671834), (372, 0.022473358227767), (1132, 0.022412386246553766), (2656, 0.022300842879515195), (3691, 0.02229345000989377), (1877, 0.022290067240953216), (3752, 0.022269132275046365), (477, 0.02226723643464014), (1506, 0.02223689055165546), (2158, 0.022184177822843213), (2892, 0.022173276589202696), (2646, 0.022158039910321073), (3566, 0.0221522335962525), (2844, 0.022113959817873983), (2406, 0.02208600069385589), (408, 0.02208477738297261), (3754, 0.022065419102159214), (2210, 0.02201890389542177), (979, 0.021997898701577437), (4135, 0.021963790164889117), (742, 0.021957333913390102), (3133, 0.021955901230347522), (3281, 0.0219288866960462), (3083, 0.02192270107655777), (661, 0.021912782623483364), (3469, 0.021908544839236196), (4078, 0.02190424856361948), (1793, 0.021893513598035434), (1858, 0.02189049089304803), (3688, 0.021873052525272402), (1503, 0.02186851543592668), (916, 0.021851873890173984), (2992, 0.021780042402527598), (1558, 0.021778779851764143), (4496, 0.02177800497761891), (4174, 0.021706174857537522), (699, 0.0216904555715827), (4741, 0.021681379755453898), (4664, 0.021624089885360163), (2101, 0.021602010747806093), (3656, 0.021591755889086576), (695, 0.021579297505806543), (4077, 0.02155613029771426), (1699, 0.021523611395523282), (346, 0.02151941988226537), (2739, 0.021469090922252288), (94, 0.021451057571392207), (80, 0.021403077088755745), (2608, 0.021280430763406563), (3557, 0.021237050162900936), (2830, 0.021175503481157192), (2322, 0.021095724539389536), (2494, 0.021092065206635487), (2457, 0.021075043608515625), (4395, 0.021068517000392632), (1747, 0.021006314923372155), (617, 0.021003599822548364), (3801, 0.02099044553950517), (664, 0.020938726106502437), (4038, 0.020914904584640168), (2867, 0.020880977500903716), (1975, 0.02079233172680923), (1565, 0.020767738192517378), (222, 0.020718040186585844), (4406, 0.02069300221858513), (875, 0.020636793433949096), (820, 0.02063384235960275), (3409, 0.020577955572976397), (2584, 0.020487241917707615), (4132, 0.020480061685656907), (313, 0.020457789701860147), (2015, 0.02042797160365648), (2124, 0.0203906791093467), (3205, 0.02033483265312548), (588, 0.020328837842756717), (3655, 0.020328643183210073), (2114, 0.02030587316125018), (4251, 0.02023844159626288), (2923, 0.02022008600596543), (3463, 0.020180826798898138), (2294, 0.02017978091901552), (779, 0.020158887954228436), (1707, 0.020148862573892083), (1234, 0.020147935835177516), (3579, 0.020129911213462796), (1523, 0.020125615988997765), (2615, 0.020117503995788086), (1918, 0.020097462964732072), (2611, 0.020039862381618763), (2977, 0.02003106839282173), (597, 0.019973140760269122), (1821, 0.01996594845217829), (2045, 0.019881857874284647), (2064, 0.019881655970007146), (919, 0.019880939022847592), (1400, 0.01982007763637061), (14, 0.019817033397052514), (1014, 0.019811847311083684), (34, 0.019798544856869688), (1007, 0.01979451527580248), (1461, 0.019782283990232914), (3968, 0.019745195362410886), (320, 0.019711844019636424), (1784, 0.019665221816407494), (3564, 0.019639287391438713), (264, 0.019590312005788858), (1367, 0.019565064927180287), (871, 0.01954953250232193), (3492, 0.01953931351356189), (1334, 0.019531879831468285), (1116, 0.01951433683898881), (1531, 0.019462768318284526), (1071, 0.019448988321097146), (3270, 0.01943618071939674), (151, 0.01942311809777896), (969, 0.01942017205492165), (238, 0.01940584268032091), (4546, 0.019398252777219595), (3111, 0.019383075259680544), (2017, 0.0193727611392704), (54, 0.019322449735736606), (3234, 0.019306342344431897), (1991, 0.019301527527453875), (579, 0.019287321967255893), (3548, 0.019266509595669567), (4041, 0.01924441939937052), (2878, 0.019211678568078483), (3456, 0.019188165821069504), (4751, 0.019178509440614236), (758, 0.019174245661253347), (1130, 0.019170022137259376), (3653, 0.019166792188429784), (1813, 0.019164738317549584), (2814, 0.019155692251643444), (3060, 0.01911278313944633), (3368, 0.019100101138784662), (1074, 0.01908509625172379), (4118, 0.019047071436775788), (2793, 0.019038739395893987), (2387, 0.01898527791727936), (3936, 0.01898474122605644), (1345, 0.01898447487604817), (4442, 0.018975680933294433), (1467, 0.018974753742100572), (628, 0.01895725555757451), (4300, 0.01894962375819727), (4472, 0.018910992487562405), (3240, 0.018904869658345962), (400, 0.018851961088842132), (2729, 0.018843645765848228), (1831, 0.018812605534713384), (1844, 0.018774263613748742), (3161, 0.018770113685615385), (2690, 0.01874522500424975), (2498, 0.018698219077445736), (297, 0.01868628073856573), (4140, 0.0186841163545524), (1850, 0.01867944435022954), (1102, 0.01866125652539298), (4258, 0.018632020940939104), (3069, 0.0185804797776019), (1263, 0.01854194787753139), (1253, 0.01854025140541594), (3250, 0.01851379450899727), (1742, 0.018497777611214353), (4646, 0.01839364811647767), (2693, 0.018392875120933586), (2062, 0.018380676395829073), (2232, 0.01836958735548051), (3392, 0.018323425051877864), (2839, 0.018274049512637718), (4459, 0.01826204555638687), (554, 0.01823927360912496), (2680, 0.018195974189680948), (866, 0.018186955468781192), (1416, 0.018182120384595785), (2668, 0.018173629378783782), (3342, 0.018166227907472278), (3970, 0.018155483474105442), (3142, 0.018120895263132666), (3122, 0.0181088882048468), (923, 0.018107372754277175), (609, 0.01807553766728724), (2582, 0.01801913187049623), (1630, 0.01801169445287207), (3608, 0.01801162070500378), (1389, 0.01800717760212213), (818, 0.01797460292124309), (1495, 0.01796970638094756), (4506, 0.017917111825682255), (968, 0.01788171987051942), (4271, 0.017850912530950662), (3823, 0.01784800720997585), (1522, 0.017835986117111763), (407, 0.017827776989238632), (1041, 0.017818548838038982), (2398, 0.017805056270946036), (4071, 0.0177906245925721), (3789, 0.017723173632665044), (1171, 0.017721207092259734), (4451, 0.017706315017698135), (1173, 0.017704160112660357), (31, 0.01768335081818069), (2184, 0.017662575824838014), (706, 0.01764778485442973), (1792, 0.01763596638341699), (316, 0.017633813232305187), (24, 0.017629563852158903), (4074, 0.017605673670287536), (1306, 0.017582876498631488), (2399, 0.01756308653577241), (3068, 0.01754105191191135), (577, 0.017521338613476968), (3502, 0.017461513531157987), (2362, 0.017441073193912113), (1392, 0.01739379406613701), (2118, 0.01736140709372771), (124, 0.017333315958679162), (1729, 0.01732941253790693), (1543, 0.017323156716054), (1143, 0.01728841330955027), (3532, 0.017278482331874196), (2616, 0.0172697709009028), (2763, 0.01724939200055505), (3304, 0.017228390081528523), (801, 0.017223627269568203), (1827, 0.0172054560181043), (1093, 0.017196782291492175), (36, 0.017182574820456587), (1134, 0.0171504881657534), (1343, 0.017149577970957557), (1788, 0.017137858281159088), (537, 0.017082402018859983), (3047, 0.017074366271070538), (1018, 0.017059794176263465), (212, 0.017055893181474584), (1817, 0.017035483453248824), (1298, 0.017005600814456456), (4106, 0.016994939425490983), (191, 0.016936790403660876), (4449, 0.016927129892618617), (2367, 0.01690723548282136), (4752, 0.01689260979353591), (1954, 0.01685432176198603), (4105, 0.016845149854165863), (2835, 0.016833456303024404), (1700, 0.01683312817979199), (2360, 0.016815284363385224), (1755, 0.01680760370149532), (561, 0.016799074721822568), (2074, 0.01675816546491827), (1487, 0.016746292354710812), (4293, 0.01674610537133414), (444, 0.016721192832338694), (41, 0.01669872209877222), (1307, 0.01662169632113045), (404, 0.01659503447647019), (3164, 0.01656706893443246), (4619, 0.016557864490598418), (3097, 0.016547981659381292), (1454, 0.016483354000699307), (476, 0.016473404918473756), (2626, 0.016470355659395936), (3869, 0.016450931427517978), (78, 0.016444691042006764), (2127, 0.016423342157175592), (575, 0.01641189987277833), (2211, 0.01639244477910471), (861, 0.016384330455219576), (1291, 0.016360954864311668), (1491, 0.01635413129697972), (4201, 0.016320741741233463), (481, 0.01632034551932638), (887, 0.01631773482822025), (2214, 0.016316892244712607), (1067, 0.016309661602659647), (3616, 0.01629838994847066), (4242, 0.01628248634425398), (2617, 0.016240367530831926), (524, 0.016203331413445918), (395, 0.01610110757648645), (4120, 0.016080621727936024), (394, 0.016068786706436158), (872, 0.016065975584247383), (4194, 0.016052938662849264), (2568, 0.0160296199566188), (2236, 0.01602767146295187), (1324, 0.0160081661306042), (4549, 0.016003688831074225), (707, 0.016003347371291665), (2522, 0.015994166528670573), (2931, 0.015977370622687562), (1458, 0.015914067400135064), (456, 0.015899826685326284), (2819, 0.01589764469683557), (3027, 0.015893972184349993), (2714, 0.01588256050412103), (3137, 0.01587143571158205), (2183, 0.015857430259129338), (3252, 0.015854059328928055), (3397, 0.015851223679476854), (3831, 0.015819882890777386), (3633, 0.015818845623129265), (3388, 0.01581164425013595), (2227, 0.015810169170688972), (4226, 0.01577149532485683), (656, 0.015766257653960048), (1299, 0.015753639235088258), (3753, 0.01575314554818156), (4240, 0.015748673940923885), (1698, 0.01574228415983912), (2625, 0.01570423396046485), (1056, 0.015696089242416375), (3516, 0.015689705342909182), (3107, 0.015678572081923994), (1229, 0.01566734661399427), (2605, 0.015665810001659255), (1511, 0.015665374153129977), (1775, 0.015659177353318048), (3903, 0.01565651029698253), (2351, 0.015644100401212193), (1432, 0.015632172326660823), (1529, 0.015612677854151602), (1727, 0.015603290079655874), (2697, 0.015576352523852735), (4008, 0.015574544450844347), (1907, 0.015528565014627696), (584, 0.0155281884049235), (277, 0.015525844133798051), (4726, 0.015517925694581016), (420, 0.015512734207749422), (3610, 0.015479705814706507), (668, 0.015477346422342105), (3489, 0.015469147330125024), (1296, 0.015453925297362954), (3131, 0.015434334790818223), (2092, 0.015416338828786695), (153, 0.01540422200600193), (1031, 0.015338461532867002), (1931, 0.015333024896783497), (1108, 0.015312328546744068), (75, 0.015307498453354069), (239, 0.015302033718607264), (994, 0.01525084724198569), (4674, 0.015246285571170968), (1859, 0.01521197830647494), (4695, 0.015203761976675462), (1104, 0.015184449307122719), (1758, 0.015155713605565661), (4581, 0.015146892322000251), (1643, 0.015145643566327282), (1871, 0.015143612542449588), (4609, 0.015110272341697742), (258, 0.015109506352118418), (1512, 0.015104864374287827), (4358, 0.015087300909885314), (4621, 0.015075122241152065), (177, 0.015057152328848376), (2340, 0.015044287810267936), (3367, 0.015030715901576642), (3858, 0.015029508168859194), (1172, 0.015025349147973271), (162, 0.015012981173855265), (3424, 0.014975910911334878), (4654, 0.014967967154561498), (2873, 0.014886006733806793), (1636, 0.014863930086892786), (562, 0.014841762236685107), (3446, 0.014815796080930012), (1011, 0.014801714273079322), (2532, 0.014796327140295083), (1431, 0.014772393470271343), (726, 0.014768769321265916), (1110, 0.014751027704618613), (3822, 0.014716231335447083), (1250, 0.014703785147164975), (3810, 0.014700258718688918), (2672, 0.014690233966978765), (2802, 0.014674295295762349), (1406, 0.014667024192071183), (4641, 0.014660143550938429), (3221, 0.014659012694016552), (3836, 0.014635976066592619), (4039, 0.01462908892952492), (2574, 0.014628798142279522), (3386, 0.014617456241745794), (1474, 0.01461646009635804), (3817, 0.01457971623245971), (1985, 0.014577454138203388), (1510, 0.01456396563569097), (1044, 0.014537706999695975), (1515, 0.014520390343987732), (4755, 0.014513912081474234), (1223, 0.014482188714009466), (3444, 0.014447216804807646), (1861, 0.01442203284543874), (2246, 0.014399281820219866), (2641, 0.014380647678719884), (881, 0.014376704253507167), (439, 0.014341488589725549), (3085, 0.014336489621824133), (4607, 0.014332513826833074), (3965, 0.014332429487884945), (4338, 0.014315466315192881), (2480, 0.014302397232524144), (691, 0.014275381340683133), (1852, 0.014226304304873849), (1551, 0.01417882695324428), (116, 0.014163770479524853), (1246, 0.014158914705732228), (1640, 0.014155818428272442), (3783, 0.01415416301778842), (2004, 0.014104756007688539), (4011, 0.0140939516049638), (1520, 0.01406951755917665), (2263, 0.014066678986444505), (4351, 0.014055309626829222), (4667, 0.014034155686204001), (2331, 0.014030591286686695), (3994, 0.014019425109486373), (2766, 0.014014996506947352), (944, 0.0139818255242483), (3457, 0.013972763488822381), (2283, 0.013967210580263829), (2086, 0.013959093343958315), (1146, 0.01394889535060636), (2528, 0.013936402068676959), (1347, 0.013934441998347518), (2245, 0.013933981193298675), (3297, 0.013926548932795265), (392, 0.013922170070805082), (3720, 0.013921825283086706), (361, 0.013912706315451086), (1493, 0.013908344190154139), (2432, 0.013905550169198127), (2056, 0.013901818824361409), (301, 0.01386413833346078), (3886, 0.01385465270522698), (1632, 0.01383183434471662), (1472, 0.013827741271873363), (4171, 0.013826222626508141), (2829, 0.01382163338406682), (781, 0.013802807981424187), (4618, 0.013788384738706172), (1218, 0.013762486085023572), (283, 0.013759822705114073), (4441, 0.01370409704346116), (218, 0.013700798561746254), (1274, 0.013700510547532647), (298, 0.013691115854594583), (717, 0.013667832959112086), (3842, 0.013659181679441417), (4136, 0.013653425749720983), (2094, 0.013651665868007493), (3197, 0.013638543796443487), (4239, 0.013636144674911206), (1613, 0.013632747709666434), (1841, 0.013631700292114891), (2550, 0.013628357508159659), (2259, 0.013625104571975051), (3536, 0.013599141204179953), (1567, 0.013594193136887053), (1155, 0.013593463851864405), (1195, 0.0135857946845266), (2899, 0.01356138927972209), (4154, 0.013560618462924834), (1824, 0.013560569840590356), (1914, 0.013558257174563985), (3320, 0.013549559950837262), (4134, 0.01354523137547909), (527, 0.013537736833292416), (4548, 0.013523360039252256), (1080, 0.013509890597882804), (1500, 0.013505499583410893), (1961, 0.013502039894829239), (997, 0.013496887748892822), (3722, 0.01347559025681754), (1726, 0.013449372119960404), (1525, 0.01343804870485361), (3701, 0.013436545845261293), (3280, 0.013431184285496294), (1430, 0.013414240194057514), (1921, 0.013411864354647376), (1750, 0.013411731943827925), (1319, 0.0134104769004827), (995, 0.013390481586369896), (1318, 0.013383953653362023), (4237, 0.01336052000320792), (1704, 0.0133602188075952), (2421, 0.013353909710276727), (240, 0.013353094845653696), (744, 0.01334131871359899), (2239, 0.013333260939679036), (2497, 0.01332382088828106), (3643, 0.01331479593527125), (2562, 0.013298735666660153), (4210, 0.013293933428935086), (3650, 0.013280255708778338), (200, 0.013260376857297492), (1210, 0.01325254405079114), (840, 0.01323366599879474), (2414, 0.013211483043340463), (1794, 0.01320060484358049), (4604, 0.013177238637678987), (776, 0.013167094766219467), (32, 0.013160337370526054), (3144, 0.013151269798552459), (291, 0.01314977029057335), (1804, 0.013146224543444546), (1990, 0.013143262939801344), (2813, 0.013134395029308885), (1118, 0.013133392775132272), (129, 0.01312988576162554), (3926, 0.013127504420625071), (4330, 0.013113753268894983), (352, 0.013111863948037672), (299, 0.013104329307888862), (3033, 0.013099016558258902), (931, 0.013097395707024773), (337, 0.01309366557685452), (148, 0.013091432134144404), (852, 0.013075264596214654), (731, 0.013075225454652948), (1595, 0.013055451963272388), (1220, 0.01302076681044072), (4482, 0.012999242139110342), (108, 0.012966620253763465), (3702, 0.012965734176157076), (1106, 0.012912999742081595), (2527, 0.012907259180621031), (2929, 0.01286656553946653), (2329, 0.012855529355799627), (1579, 0.012848270395163234), (4537, 0.012848033754317895), (3736, 0.012836601396710114), (2998, 0.012836032275609659), (287, 0.012825712152391299), (4218, 0.012820213959273168), (3066, 0.01280522670853192), (3439, 0.012802017325699709), (4112, 0.012793117296162494), (3916, 0.01278756215149863), (4040, 0.012736302195078557), (895, 0.012734683861780324), (2255, 0.012734107081610551), (935, 0.012713734388436846), (345, 0.012702634843465725), (2906, 0.01270084002677168), (1373, 0.01269750300260085), (2513, 0.01267723375710621), (2612, 0.012658052000431248), (3411, 0.01265698651224038), (3420, 0.01265556491290434), (1368, 0.012645615746011724), (1463, 0.012636689464657385), (2175, 0.012622072018667396), (13, 0.012616383818485004), (740, 0.012613585727188336), (35, 0.012612588721625094), (3826, 0.01260020528455989), (4282, 0.012582259231259172), (3852, 0.012570068198379096), (4438, 0.012565415059740664), (1982, 0.012519910695844141), (1092, 0.012508476128834071), (498, 0.012494980274706576), (1259, 0.012493328739341104), (1559, 0.012485459899357808), (3151, 0.01248481754088116), (1584, 0.012482978402336415), (37, 0.012478054262147247), (1675, 0.012452258811316097), (45, 0.01243897322740423), (130, 0.012409082541547366), (4302, 0.012404897768106186), (1216, 0.01239487749242142), (67, 0.012394785417373854), (3646, 0.01239300335070692), (2043, 0.012377831868606167), (2801, 0.012375319632627443), (3844, 0.012368432952628754), (2812, 0.012351789451041992), (2379, 0.012339502275279607), (1289, 0.01232940771690274), (214, 0.012325649133771469), (2358, 0.012320544024478939), (3731, 0.012302882954395584), (433, 0.012275725429950894), (2938, 0.012269659439001665), (2564, 0.012261978235173969), (3313, 0.012252177348461003), (1206, 0.01225208875154114), (3121, 0.012240092524680668), (2327, 0.012219719230562882), (803, 0.01221681291107285), (4205, 0.012208993795258008), (970, 0.012188688993071267), (2161, 0.012170969695828343), (549, 0.012160211249290525), (1535, 0.012130881235162948), (335, 0.012116681750537654), (4342, 0.012077498970935924), (1114, 0.012071860094394335), (409, 0.012066607738144372), (4348, 0.012052984444558013), (2666, 0.012048368870439181), (3942, 0.012039894831689064), (1308, 0.012024646117045911), (1524, 0.012003589934695228), (2966, 0.011998610378147303), (3484, 0.01199738775859882), (4028, 0.011996481739527174), (249, 0.011987490420828738), (4518, 0.011981742765566088), (4720, 0.011979785814161778), (4021, 0.011950121008299858), (3563, 0.011945337298693853), (2654, 0.011944620239989774), (4698, 0.011908292564497268), (3901, 0.011903362345532634), (2837, 0.011890732667082217), (2055, 0.011878711345056034), (2412, 0.0118686943246193), (4539, 0.011838724575083868), (3796, 0.01182552835739456), (2262, 0.011807725103359912), (3758, 0.011804802488417615), (3990, 0.011801695426638148), (4701, 0.011763553008711698), (3841, 0.011753650462963968), (269, 0.011728776257539998), (4645, 0.011694114419340238), (3865, 0.011688458871239007), (3535, 0.011687517154465176), (1539, 0.011686859755909166), (1025, 0.011679567082533149), (496, 0.011669755835970472), (497, 0.011663285187966572), (3360, 0.011642101091839916), (3944, 0.011628976840147902), (2365, 0.011624003417691906), (1395, 0.011612434365693687), (1394, 0.011612028132692359), (91, 0.011603091689210681), (723, 0.011571302774350992), (4412, 0.011562014946728951), (1940, 0.011535782982046577), (950, 0.011531687933341436), (3894, 0.01149463506381947), (3440, 0.011467857005053338), (566, 0.011467610715971585), (3547, 0.011463397602211097), (1482, 0.011456131188132525), (3204, 0.011445536654423764), (2484, 0.011432160526922168), (4316, 0.011419046877482372), (4750, 0.01139439884101622), (4331, 0.011369314605934143), (4527, 0.011348905628199764), (4538, 0.0113484631233089), (4500, 0.011299596773377985), (2952, 0.011295911003548865), (3285, 0.01128196786780473), (4015, 0.011275467535833313), (57, 0.011273078413337396), (855, 0.011269867996209364), (2, 0.011245943895039374), (2982, 0.01123255336949597), (2357, 0.0112050914996683), (4150, 0.011203995881923744), (4746, 0.011194852791186378), (3219, 0.011173774261237605), (2448, 0.011166277823217486), (2400, 0.011163622933815228), (839, 0.011151400714150774), (4699, 0.011136272622640954), (2521, 0.011131538196656514), (2199, 0.011129920303501066), (1560, 0.011122415799639742), (3892, 0.011114920425066075), (4740, 0.01110014925014653), (3470, 0.011078693094695906), (4630, 0.011068644374243541), (2643, 0.01105796638321795), (2683, 0.011055612228511558), (2921, 0.011044168642730832), (3481, 0.011030575528642428), (2115, 0.011027964094889663), (1158, 0.011027312364437315), (1391, 0.01101151451818906), (2296, 0.011009842405263846), (2257, 0.011008192966196411), (1962, 0.01099550801813146), (58, 0.010989591260986828), (3078, 0.010986979759581116), (719, 0.010981242403690226), (2901, 0.010977644382120297), (4593, 0.010975257720575391), (1498, 0.010973100328189959), (2733, 0.010964050037004541), (2154, 0.010951874347543323), (391, 0.010950535017117513), (3001, 0.010937817339502689), (4414, 0.010933435802252485), (757, 0.010918453937457837), (4227, 0.010895835560386624), (2493, 0.010893241203515444), (2000, 0.010892526683278125), (2530, 0.010867195187573403), (2314, 0.010857799230591967), (3472, 0.010832199913808295), (450, 0.01083036185828949), (1167, 0.010813306759175221), (3802, 0.010807584617127532), (2229, 0.010786384429060818), (2423, 0.010775329422134132), (4133, 0.01076226227886648), (1265, 0.010727337299502093), (2979, 0.010723286538193788), (303, 0.010710442364676335), (4595, 0.010680053239912357), (952, 0.010669478712744238), (2599, 0.010667748393703807), (4589, 0.010665862047516439), (3092, 0.010662897179975223), (3086, 0.010662361306996094), (3345, 0.010638574372914609), (1661, 0.010628754961753743), (430, 0.010623475491072893), (1695, 0.010608353478353129), (4199, 0.01060705888249898), (3768, 0.01060596260911478), (3022, 0.01060123247793295), (3584, 0.010600134860631204), (991, 0.010594843135280606), (831, 0.01059438212494645), (2320, 0.010593546277323892), (1057, 0.010590695568571569), (4167, 0.010587942345295155), (2427, 0.010584863560240578), (1614, 0.010558862772006213), (3613, 0.010546066769625106), (2949, 0.010545993674724977), (1119, 0.010537990333021793), (3235, 0.010521915244368442), (2851, 0.010519630250001953), (266, 0.010517235554240072), (3980, 0.01051435029823007), (2630, 0.010512283379972974), (3921, 0.01050041108968488), (1407, 0.010489010173857985), (2474, 0.010486954751448388), (4267, 0.010463671972406633), (3401, 0.010461809876013455), (3048, 0.010455355059919659), (1904, 0.010438087829579024), (275, 0.010437578965700571), (4180, 0.010430290756849125), (415, 0.01042513681989336), (3620, 0.01041147818108304), (807, 0.01040614826166832), (1916, 0.010401077441886519), (4392, 0.01039321168723469), (1449, 0.010390839197579178), (3089, 0.010388391685007171), (3334, 0.010384732066775228), (1189, 0.0103754875221351), (2927, 0.010361237864086967), (1835, 0.01035613867173418), (1271, 0.010355734843269106), (3554, 0.01035018261574481), (1233, 0.010341599234100432), (3769, 0.01031996412369689), (1588, 0.010312941394839369), (2781, 0.010304081986396641), (452, 0.010294927727541902), (2756, 0.010292932206577947), (3488, 0.010289858663069293), (4455, 0.01028928230449912), (516, 0.010288242449128893), (1534, 0.010272069053960263), (1536, 0.010263721290309382), (3666, 0.010248261892769818), (813, 0.01023468989849007), (3995, 0.0102330130871871), (4552, 0.010230663487794337), (4716, 0.010229545000598889), (4570, 0.010220801198984412), (1469, 0.010217960734208725), (1594, 0.010202624864099298), (3414, 0.010200532609240878), (4483, 0.010199520965158155), (4190, 0.010197290539603948), (1278, 0.010189369364535242), (4730, 0.010185297250565294), (3398, 0.010179484141172599), (3191, 0.01016128031880916), (4672, 0.01014448005345103), (421, 0.010136367199871942), (3179, 0.010134969502491719), (2772, 0.010128322332667082), (4119, 0.010128105671993478), (461, 0.010125243764812537), (1615, 0.010125241639604904), (509, 0.01012199771400167), (3530, 0.010118180915965403), (101, 0.010103763024508198), (3522, 0.010101647043250731), (4711, 0.010091366865896761), (1003, 0.010088692921000588), (4404, 0.010083930112471383), (3763, 0.010076618376411208), (3815, 0.010062873062514043), (3081, 0.010062381771521849), (3524, 0.010059745457894294), (2073, 0.010059289913454134), (1970, 0.010056330430690267), (2951, 0.010039130356224994), (684, 0.010029994328856814), (2295, 0.010027039196096845), (3576, 0.010024511634870588), (982, 0.010024181583287942), (3833, 0.010023518325467553), (3924, 0.010017057104571674), (2685, 0.010016830157442261), (811, 0.010006579501849347), (3677, 0.010002685296268377), (2991, 0.01000155319721855), (1998, 0.00998920882622171), (3332, 0.0099883110371477), (1799, 0.00998046054839658), (4149, 0.009978674267388759), (3005, 0.009975916723094188), (3002, 0.009974503042639303), (630, 0.009972886849830056), (3540, 0.009972422679984643), (4583, 0.009972377716068662), (1466, 0.009967494808960616), (3256, 0.009966925908863052), (4061, 0.009953590738043099), (635, 0.009948880274948555), (4517, 0.009929817219230443), (2284, 0.009923368495168339), (4346, 0.00991961135252145), (451, 0.00991274878266954), (552, 0.009910752852370556), (2261, 0.009910752284829417), (3515, 0.009907356694446826), (4683, 0.00990335458981988), (265, 0.009893344098823012), (4332, 0.009886237017624866), (1873, 0.009879883480121554), (1679, 0.009873509728144544), (1163, 0.009852718509716758), (4623, 0.009834474033077637), (619, 0.009824369982270296), (7, 0.009819167875287268), (2252, 0.009818271173062009), (4599, 0.00980765358945316), (4188, 0.009806917125694094), (4516, 0.009804479601321905), (331, 0.009802936388817827), (4708, 0.009794725746382285), (4312, 0.009790391933823835), (4665, 0.009789275402197001), (4278, 0.009785955409414399), (1891, 0.009784474727338803), (1634, 0.009782477500323005), (81, 0.009779277181987704), (4542, 0.009758367076384505), (4526, 0.00975217061632729), (1812, 0.009734399349611214), (4668, 0.009725377057936978), (1272, 0.009725009243816564), (1573, 0.009723606002299013), (1927, 0.00972350154837591), (2223, 0.009721608535006745), (3195, 0.009713130252234435), (3473, 0.009711304431028564), (1713, 0.009708956267138415), (3793, 0.00970318945016216), (1622, 0.009702330028956818), (1843, 0.00969769370343338), (4737, 0.00969466633454122), (1082, 0.009693680265865508), (74, 0.009691529047501889), (1635, 0.009679754392368395), (1097, 0.009679702627787962), (4029, 0.009672642030380735), (1773, 0.009670349861898792), (3580, 0.009670165997555758), (633, 0.009669388557301439), (1999, 0.009658275138801761), (4352, 0.009644392284350293), (4265, 0.0096439249731307), (418, 0.009638830623779425), (576, 0.009638477496633963), (746, 0.0096384370857474), (220, 0.009633999428126771), (1933, 0.009620989755427118), (557, 0.009618180300008194), (2759, 0.009617591167348274), (2824, 0.009615921013358208), (4615, 0.009614717373522865), (2710, 0.009613582340020117), (1315, 0.009600532419915321), (4534, 0.009599596477493559), (4718, 0.009589289437582403), (4160, 0.009586354093131699), (2579, 0.009583879721554946), (3583, 0.009583778134575066), (2810, 0.009582544827220906), (523, 0.009579115800324615), (2916, 0.00957713952464859), (2057, 0.009571940483728014), (2799, 0.009569715656834621), (4396, 0.009565996608762974), (308, 0.00956107402690942), (1689, 0.009560633301041116), (4624, 0.009555560090539744), (3505, 0.009555238657474367), (339, 0.009551432894282034), (3593, 0.009544561261980168), (2828, 0.009540511911797908), (2381, 0.009532863674886035), (3080, 0.009530289968973487), (1396, 0.009529710281677544), (4397, 0.009515712898310913), (3872, 0.009511073930385392), (1287, 0.009509425961747605), (2372, 0.009507504139690995), (3003, 0.00949814767852793), (365, 0.009494873234867857), (1864, 0.009493265673896707), (3487, 0.009489790392498195), (3664, 0.009487282010184296), (4034, 0.009485724101472696), (2369, 0.009478098901032038), (2443, 0.009474440123008857), (2806, 0.009469121226161807), (1460, 0.009465490971839229), (3735, 0.009461391117158028), (4434, 0.00945502500594102), (3907, 0.009454223119857314), (4025, 0.009453770430230105), (3126, 0.009452288074563085), (362, 0.009440116713613207), (2176, 0.00943869406068701), (3985, 0.009435444160389769), (1766, 0.009435160441682307), (715, 0.009435042345990444), (2944, 0.009432094567798435), (1207, 0.009429366330561567), (3743, 0.00942878009160557), (4614, 0.009427713912475547), (2049, 0.009426092415990983), (3105, 0.009424925495778527), (1993, 0.009423747683438182), (3824, 0.009420430633408158), (2865, 0.00941397290077127), (1443, 0.009401644650501391), (2618, 0.009400272626540898), (3581, 0.009399117034258603), (3116, 0.009395607583037816), (4085, 0.009394123698610033), (3265, 0.00939088866273531), (2390, 0.009373137661769218), (1532, 0.00936897308711337), (3458, 0.009364578446416034), (1631, 0.009364316514228485), (3816, 0.009363423812343572), (685, 0.009360935896990347), (1428, 0.009356258603316283), (2717, 0.009354004730877469), (1211, 0.009352469968438889), (3695, 0.009352151329141712), (3628, 0.00934990169155474), (363, 0.009342977977569314), (3859, 0.009335737673562735), (1647, 0.009330017239345435), (3813, 0.009329116687346449), (977, 0.009326375559649306), (3853, 0.00931965962350334), (3021, 0.009315192032321978), (3690, 0.009312575507363759), (1111, 0.00931197930500839), (4196, 0.009309896972238557), (3734, 0.009309236110565462), (2604, 0.009304890320036008), (1177, 0.009297676517757704), (768, 0.009296152607683275), (3433, 0.00929362826114201), (2732, 0.009293483083152617), (1688, 0.009292165764819645), (3609, 0.009280772625501851), (4207, 0.00927920459490711), (56, 0.009277863485608754), (2082, 0.009275699046017983), (1087, 0.00926429299947001), (311, 0.009264189111802398), (2371, 0.009262125226227116), (2798, 0.009253512314333245), (4086, 0.00925222736126742), (4159, 0.009250217276054238), (1413, 0.009248139389187254), (1105, 0.009247854959809598), (1556, 0.009244549716046428), (3704, 0.009239767567738063), (2171, 0.009236858209130124), (2061, 0.00922964738670393), (3788, 0.009226201335742546), (146, 0.009222806149662689), (1649, 0.009198578268513617), (3338, 0.009195516754973182), (1819, 0.009195389163323754), (3112, 0.00919408966009732), (3943, 0.009190420688321831), (340, 0.009186613900101913), (182, 0.009185213571524823), (2451, 0.009183016860411302), (2827, 0.009181531953619218), (4697, 0.009174643436162522), (1480, 0.009174071188980705), (2492, 0.009169582610868343), (4371, 0.009168802243323422), (1731, 0.009166771608887741), (405, 0.009166186742336255), (2462, 0.009161124990431783), (3118, 0.009159371758452897), (1135, 0.009159166503281317), (2316, 0.009158261093492286), (4347, 0.009149512982175808), (1683, 0.00914945777414574), (4173, 0.009148019556157296), (2260, 0.009146483654151015), (3728, 0.009143019062055053), (1562, 0.009142230385516995), (1141, 0.009137327474792501), (248, 0.009130956170835685), (413, 0.009130090087804495), (2393, 0.009124542167390512), (3114, 0.009124480153812956), (785, 0.009117949761121298), (1333, 0.009117824909811067), (770, 0.009116408324427781), (1129, 0.009115990401365485), (1304, 0.009115577919409557), (4070, 0.009114227264143317), (3846, 0.009111497571527922), (3539, 0.00910920546100852), (4063, 0.00910882403236725), (558, 0.00910140975483114), (1667, 0.009096370732966397), (3236, 0.009093744637679238), (3528, 0.009092110539220988), (1081, 0.009080754833359638), (1197, 0.009074992871168527), (1517, 0.009072486860243997), (3518, 0.009070266421964795), (460, 0.009070193326395404), (3084, 0.009068398030640579), (2014, 0.009063314519218801), (2984, 0.009061682529037768), (259, 0.009060372939096116), (2516, 0.009059439710814793), (359, 0.009057860843790861), (2110, 0.009055957265296974), (2337, 0.009052290461439454), (160, 0.009046899739893926), (3244, 0.009041577542477109), (4525, 0.009038372311485852), (1013, 0.009034403502755814), (3738, 0.009027888438811834), (3631, 0.009020777008728168), (1328, 0.009016475518065812), (1670, 0.008999138534386303), (3187, 0.00899759250648182), (1329, 0.008992393318560768), (3073, 0.008990753844074186), (3208, 0.00898801531848042), (1666, 0.008986258283019976), (3189, 0.008983099379004078), (1955, 0.008981098798600502), (1840, 0.00898036426389272), (1257, 0.008979586286281246), (973, 0.008977817854979208), (3278, 0.008974737279997529), (530, 0.008970193365907733), (1459, 0.008969686562508673), (2596, 0.008968818894693786), (1142, 0.008957338685592979), (4044, 0.008955559255103593), (727, 0.008952906939891193), (752, 0.008947393788987037), (119, 0.008940237599831391), (1795, 0.008924632779579233), (3871, 0.008924054231088743), (3454, 0.008913835933789204), (2102, 0.008908520829525046), (1513, 0.008906734830997937), (893, 0.008900134160654664), (2632, 0.008898354673402924), (500, 0.0088852762798976), (2553, 0.008883904954561548), (2650, 0.008883391785675404), (3229, 0.008879972484815948), (1911, 0.008879102441156306), (1932, 0.00887831830979165), (4559, 0.008875217346310565), (4756, 0.00887475495569862), (1602, 0.008871090462029798), (3847, 0.008855464182347932), (3765, 0.008851779384899512), (4576, 0.008850845390797722), (328, 0.008850238321941923), (961, 0.00884631730123489), (2422, 0.008845568574953127), (4682, 0.008842199508019639), (3287, 0.008839048219038559), (2456, 0.008824757351007856), (4192, 0.00882421089271511), (932, 0.008823157022505853), (120, 0.00881802209325689), (3890, 0.008816023018065031), (2332, 0.00881103888015392), (4582, 0.008804025357150554), (1697, 0.008800970601950087), (1113, 0.0087969090546113), (559, 0.008793323058168979), (3696, 0.008787930906496969), (1557, 0.00878581326372754), (2856, 0.008782110315222951), (2466, 0.008780898421194786), (4329, 0.008779211427472665), (3495, 0.008776646815887289), (2871, 0.008776178248970536), (1668, 0.008773782725658324), (245, 0.008770247069226963), (4658, 0.008760645662058354), (2167, 0.008756485387906977), (310, 0.008755170764054935), (4146, 0.008754591229406992), (4168, 0.008744575515159878), (1936, 0.008738639980931112), (3912, 0.00873524141744383), (2030, 0.00872561818385208), (2290, 0.008725113736486649), (1182, 0.008723490174524312), (1085, 0.008716512904364959), (1166, 0.008715594407995622), (2708, 0.008715184173290575), (528, 0.00870597832689163), (3812, 0.008702560977305), (4380, 0.00870131718709302), (219, 0.008699414607447222), (1361, 0.008685220649076389), (1001, 0.008684960516380198), (2896, 0.008682653155067237), (1002, 0.008682398074473565), (1889, 0.008680529015858513), (1204, 0.008674991746780499), (1412, 0.008673476252358769), (2041, 0.008671230786164637), (780, 0.008669904910350685), (3160, 0.008669827224809443), (1915, 0.008666121960826247), (401, 0.008665720507160428), (221, 0.008664070015920544), (2887, 0.008663554229638389), (2765, 0.008661840836048115), (2549, 0.008659817966867154), (3619, 0.008659608791033141), (4374, 0.008649983711724325), (2224, 0.008646965803630084), (2652, 0.008643919147102943), (909, 0.008641710459564305), (962, 0.008640667057612522), (4532, 0.008639878715636635), (3335, 0.008638893004014828), (4501, 0.008638328763102707), (1818, 0.008635271371589847), (911, 0.008633080784684015), (1787, 0.008630803820829223), (1706, 0.0086280422715639), (2335, 0.008625715745329682), (2554, 0.008625477650566335), (1029, 0.008623248489623321), (4399, 0.008612017029964796), (2059, 0.008608081797794062), (3394, 0.008607721337415027), (2449, 0.008605542404524973), (1590, 0.008605504101861915), (3482, 0.008602517034574134), (4385, 0.008590730098815662), (1505, 0.008574918804957192), (2160, 0.008574795960120457), (2583, 0.008573580550867727), (665, 0.008569254911153405), (2831, 0.008559992568071674), (4488, 0.008557025980618938), (4195, 0.008544973497735722), (4427, 0.008540572841641196), (99, 0.008536144533382497), (2686, 0.008529089817986911), (3805, 0.00852530331851206), (4457, 0.008518653915969891), (4568, 0.008517410696722882), (4426, 0.008516358632637548), (1720, 0.008516005410042419), (3673, 0.00851554149512673), (4328, 0.008512845181697442), (946, 0.008508504489765978), (1838, 0.008505915141964344), (3807, 0.008505338451669871), (1746, 0.008504622026930836), (1196, 0.008494357986957786), (188, 0.008494354848195662), (2862, 0.008492416129998848), (3545, 0.008486611992706441), (423, 0.008486243687717937), (1753, 0.008484038036608575), (2071, 0.008477475812213758), (1604, 0.008477277883275595), (3058, 0.008473569625018338), (490, 0.008466640157060713), (2408, 0.008466558762587199), (1837, 0.00846625018586571), (1198, 0.008463526981285406), (3279, 0.008457575707728818), (568, 0.008451620280439519), (1650, 0.008449898440829665), (1745, 0.00844804967971288), (2435, 0.008443045785815676), (1598, 0.008440254560105373), (1627, 0.008437051725916809), (3350, 0.008435141879114764), (3476, 0.008432308416962435), (1823, 0.008431154147255948), (1358, 0.008426680714955663), (117, 0.008420590130349905), (4754, 0.00841909472234367), (1849, 0.008417232748900758), (540, 0.008410282246038224), (1354, 0.008406240889103583), (306, 0.008395908132922611), (3711, 0.008395862490186505), (122, 0.00839430170761412), (2152, 0.008393273352239501), (1066, 0.00839268661651958), (4020, 0.008388104150235763), (3685, 0.008388046406900105), (2980, 0.008385537926163918), (3379, 0.008382657066746756), (1084, 0.00837805110877792), (1202, 0.008372054303491208), (1842, 0.008365686514493074), (1987, 0.008364698594787116), (2087, 0.008362667269875057), (2791, 0.008357162816551108), (4297, 0.008350493415853684), (569, 0.008349539751160331), (1541, 0.008342945824472803), (2909, 0.008338832686806366), (4565, 0.008327902353513725), (1607, 0.008326438539495749), (2401, 0.008309622041514909), (934, 0.008304988692195276), (1235, 0.00830392932823003), (3286, 0.008301187282034102), (522, 0.008299649349745735), (3370, 0.008299380484379828), (2036, 0.008295221816777528), (662, 0.008289956469290918), (1039, 0.008284379813505473), (2150, 0.008279834337606198), (170, 0.008256505047109454), (546, 0.008249564026130321), (4314, 0.008244391780244338), (1342, 0.008242045873096949), (2338, 0.008233026656680388), (2373, 0.008231324371106923), (964, 0.008228180240170207), (3825, 0.008227507917485343), (428, 0.00822712516861366), (720, 0.00822331123999583), (2100, 0.008221704038996087), (4055, 0.008219152616013898), (4303, 0.008210433733064595), (981, 0.008203819075110544), (2117, 0.008201436385830827), (2285, 0.008199665578144411), (2065, 0.008186901853495557), (2752, 0.008177818788281967), (1552, 0.008174817754977535), (1810, 0.00817441852910352), (3327, 0.008173641393407764), (4513, 0.008164693723960609), (1854, 0.008163414459550019), (1744, 0.008156691860794364), (2050, 0.008152810391779295), (300, 0.008145767866023394), (594, 0.008144953155911122), (2473, 0.008142913592909619), (3940, 0.008137623659432281), (1327, 0.008130578354638056), (3201, 0.00812243270867428), (3533, 0.008122308026400467), (1878, 0.00811831135394612), (437, 0.008112935894139077), (2439, 0.00810349915983308), (53, 0.008102056684624092), (4037, 0.008099737256196688), (1664, 0.008097807391321628), (2724, 0.008097390284039479), (2145, 0.008093058915711488), (3480, 0.008093000247946477), (2573, 0.008090629655464782), (4110, 0.008087514709624485), (185, 0.008083329483654176), (859, 0.008082141687623534), (3991, 0.008063289787778547), (2972, 0.008059372077059502), (1783, 0.008044979147191768), (1608, 0.00804349465935335), (1553, 0.008042366951363879), (4569, 0.008026214499962181), (4679, 0.00801137571341212), (2975, 0.008005729211691149), (2237, 0.007996118483006753), (1898, 0.007994898414840917), (2099, 0.007991661846998628), (1136, 0.007988833878803734), (3403, 0.007983615738284551), (4626, 0.007979906549825133), (3914, 0.007976631182320998), (4270, 0.007976496385969511), (2052, 0.007973865238444486), (3971, 0.007959682419604309), (2590, 0.007959363860795451), (2201, 0.007953761872398143), (4356, 0.007951732877347113), (3989, 0.007951406066729864), (2450, 0.007948360147185132), (862, 0.007938669380929278), (745, 0.007905305116944818), (1764, 0.007898865977156782), (762, 0.007898566732149408), (2593, 0.007888554486701765), (165, 0.00787744782650796), (692, 0.007875930487565012), (1979, 0.007867218393278282), (3843, 0.007864722509135957), (357, 0.007863561745966), (1079, 0.00786268050747811), (3923, 0.007856258096160472), (920, 0.007849194500688798), (3471, 0.007847764592029596), (457, 0.00784743170825164), (183, 0.007841489888301193), (3129, 0.007829102844404226), (2125, 0.007819872081006082), (251, 0.007810384131650358), (2135, 0.007797078536093204), (199, 0.007796175296454558), (4344, 0.007789544407940547), (4405, 0.007770661052793944), (2265, 0.0077620177854157285), (1781, 0.007753542852551446), (4191, 0.007744826938204782), (3344, 0.007738946996661833), (403, 0.00772371179283955), (1310, 0.007716961498719377), (3726, 0.007712172293256956), (1690, 0.007703405598447207), (2741, 0.0076984754449311976), (3716, 0.007684630694210129), (3138, 0.0076759809796468695), (2591, 0.00767081631288254), (1957, 0.007655586435521238), (1800, 0.007650807645856688), (1214, 0.007641043280787945), (640, 0.0076286118262671124), (2389, 0.00762673448906293), (383, 0.007620223605809895), (2287, 0.007602506897172936), (2985, 0.007600883809018629), (3485, 0.0075977993469366085), (703, 0.007594915474043773), (1601, 0.007589371198858776), (1423, 0.007588199863992718), (1830, 0.007575994826961455), (2221, 0.007575623183461034), (1251, 0.007566004121385881), (3948, 0.0075596961102673155), (3785, 0.0075569437238793575), (712, 0.007554017969879183), (519, 0.007549346752467794), (453, 0.00754735325593068), (836, 0.0075376263877785545), (1305, 0.00753345243507261), (469, 0.0075307346366191505), (441, 0.007530290075942272), (2318, 0.0075239727818464525), (912, 0.007518461423119903), (538, 0.007516889049645071), (4066, 0.007508683402253976), (738, 0.0075069078367979835), (2665, 0.007503444880468752), (1684, 0.007489569142052259), (2509, 0.007488482004277623), (2433, 0.007487457176819766), (1341, 0.00747907713424701), (319, 0.007466532178867581), (257, 0.007465073963713385), (3317, 0.007463668014050591), (412, 0.007444716428461614), (1943, 0.007442113498601556), (4541, 0.00744201759007208), (77, 0.007438824247911101), (2721, 0.007429368196254968), (414, 0.007411939785573), (3875, 0.0074067234602968835), (242, 0.007402769360823109), (73, 0.0074023382360771), (1370, 0.007372353798805804), (789, 0.007353922850563376), (1453, 0.007331960947701332), (1008, 0.007326534012319696), (1088, 0.007309023908345248), (2352, 0.0073072066179384445), (2758, 0.007261585602454339), (2013, 0.007260386403458237), (309, 0.00724787042232414), (2022, 0.007226886959067054), (3091, 0.007156614905950389), (159, 0.007131938474208169), (3152, 0.007110983616388126), (3212, 0.0070880519915314105), (2770, 0.007070429501720659), (1418, 0.0070044769529430334), (775, 0.006971417407337634), (4652, 0.006965204548487487), (1005, 0.006965153726316619), (1153, 0.006920323449282263), (82, 0.0069150889990584885), (228, 0.006901423616874514), (2364, 0.006874504177494733), (1268, 0.006844992711653462), (1676, 0.006826909380755235), (1471, 0.0067575104617272706), (4598, 0.006707857449554044), (929, 0.006573471826865732), (3574, 0.006566745122818937), (0, 0.006548677358199159), (336, 0.006535403331792853), (351, 0.006523251471295678), (4635, 0.0064807260052880105), (553, 0.006480415999776504), (4007, 0.006478661079898376), (1581, 0.006465716852461804), (243, 0.006415513053216997), (2818, 0.006380430461898934), (330, 0.006296403294676795), (641, 0.006122760252700112), (2534, 0.006097525061945177), (2885, 0.006079116177184277), (2673, 0.0060610847477833235), (3328, 0.005989553512266768), (940, 0.005983892713030134), (202, 0.005979404576938793), (4444, 0.005968469497086096), (824, 0.005954058150647688), (3145, 0.005919421993307606), (2645, 0.005863709251652948), (1208, 0.005808839969635867), (1548, 0.005767366829747903), (3578, 0.005750882311056527), (948, 0.005736906059159797), (2581, 0.005693613879082496), (3638, 0.005680640496346886), (4612, 0.005672132027657289), (3577, 0.005630802023158076), (2363, 0.005630615914606895), (4660, 0.005618442354618032), (1669, 0.005606130729362537), (2730, 0.005598150719222082), (787, 0.0055738816968513025), (3448, 0.005527188270055596), (4062, 0.005518590335835575), (4524, 0.005437150944757619), (512, 0.005415385882095704), (2738, 0.005376884550064365), (4594, 0.005366687681212889), (904, 0.00536342287646934), (2720, 0.0053400609271282975), (2032, 0.005339199209371946), (491, 0.005326575771730353), (3951, 0.00531638653119994), (3312, 0.005292018349666624), (3450, 0.005291648870016655), (4002, 0.005291375460944238), (4203, 0.005281389240246864), (3230, 0.005260166707896009), (3364, 0.005259810054242173), (448, 0.005259065829742583), (3866, 0.005251980921005986), (1321, 0.005243793650109215), (225, 0.005240040424413986), (2012, 0.005239814529417678), (380, 0.005234269388263357), (1381, 0.005228591312974679), (614, 0.005227660689107682), (847, 0.005224828743156089), (3651, 0.005212197678698931), (38, 0.005206945111108574), (2486, 0.005202060649609657), (2079, 0.0052012616661172885), (3661, 0.005196411415959412), (4121, 0.005182158388744773), (2339, 0.005174898548200627), (424, 0.005173348072035755), (425, 0.005168859617198929), (3960, 0.005165400085076479), (4460, 0.005164670185073897), (1887, 0.005163342368495395), (3039, 0.00515584965176807), (1928, 0.005151042422093229), (4462, 0.005148929567210349), (2470, 0.005145961057118056), (683, 0.005143699812160496), (2518, 0.005143591532025576), (737, 0.005138993441419753), (1349, 0.00513375744914297), (3587, 0.005132507775920249), (2740, 0.005130071675784176), (4368, 0.005127857667340543), (666, 0.005127093045309052), (1716, 0.005109825881565065), (701, 0.005086063378481376), (2840, 0.005081690602944269), (747, 0.005079790650702307), (3877, 0.005072924533273252), (2218, 0.005065347264930315), (3857, 0.005060632930858353), (2854, 0.005060181868477694), (3681, 0.0050579856652353565), (687, 0.005055022293508435), (4064, 0.005054452467655106), (1725, 0.005037087730006011), (48, 0.005020332546201759), (1486, 0.0050177669476207595), (371, 0.005013678465851926), (4091, 0.005006342050372057), (1681, 0.005002214061621966), (2233, 0.0050000764412230685), (1733, 0.004995770337980761), (677, 0.004993310308927788), (1583, 0.004991713270999775), (123, 0.004984914722215003), (3730, 0.004980723851108214), (1043, 0.004979067404939478), (102, 0.004977790155234097), (4732, 0.004969560036520664), (675, 0.004968782122970322), (2458, 0.0049652987845655566), (342, 0.0049634257581867664), (4013, 0.004960561876398416), (192, 0.00492792742994447), (704, 0.004926601219230122), (3271, 0.004923051057926841), (4659, 0.004916757600428372), (1150, 0.004914343099358127), (4436, 0.004913102117990111), (4076, 0.004908512349715157), (1952, 0.004906328136323658), (232, 0.004905628530540128), (3586, 0.0049034493898732125), (1390, 0.0049019306627762285), (4269, 0.004887216252162874), (2725, 0.004872780140301135), (1282, 0.004871019055350084), (2964, 0.0048688222615611565), (2712, 0.004868151735254355), (12, 0.004865560505308296), (3780, 0.004864839490276582), (3438, 0.0048641012958923115), (2609, 0.004859821846030953), (2817, 0.004858387391876202), (10, 0.004855516741463433), (3678, 0.0048471529522524795), (792, 0.004846635607263101), (603, 0.004846154682887302), (680, 0.0048455205428305555), (1951, 0.004834100123620513), (1896, 0.004833547302318064), (913, 0.004832984699014178), (3897, 0.004830776058691953), (2689, 0.004829901057502714), (2418, 0.0048296213941098915), (3618, 0.004829591444586228), (3464, 0.004828844710948548), (2792, 0.004827127446963122), (4613, 0.0048233238109272585), (1436, 0.004820854828269767), (2330, 0.0048173390001274045), (765, 0.004815351767964389), (2610, 0.004815159575600584), (3103, 0.004813945196962658), (1502, 0.004811489366757596), (483, 0.004810669385113957), (1893, 0.004805628817976597), (1380, 0.004805197952383613), (654, 0.004802167124055054), (1185, 0.004800252844979594), (891, 0.004799440814115088), (3277, 0.004797516215006575), (2809, 0.004795863798004704), (600, 0.004794297753638784), (599, 0.004793389113325436), (3654, 0.004791826806651079), (3969, 0.0047865263647887514), (2633, 0.004783344558976408), (1402, 0.004777758564182809), (2675, 0.0047763109782746034), (4363, 0.00477203445362869), (2640, 0.004767279016949472), (3150, 0.0047670935312664146), (3919, 0.004762954538302616), (211, 0.0047624467092390235), (1006, 0.004760144117528316), (4448, 0.004758279558883543), (3018, 0.00475823972968833), (3599, 0.004757312048067407), (928, 0.004754710511278212), (3378, 0.0047544486152158285), (201, 0.004753704086097177), (4629, 0.0047530635392582414), (890, 0.004751896454380853), (1047, 0.004747114482943398), (1851, 0.004743467902114952), (2546, 0.004743155235688954), (2911, 0.004741935274112485), (2691, 0.004740272218688345), (2241, 0.004737949746640693), (1702, 0.004735611374361792), (1048, 0.004734718689840708), (3778, 0.0047326940657139984), (551, 0.004731889079526958), (1364, 0.00473104160571441), (4262, 0.004730296393541062), (2016, 0.004729985386018295), (216, 0.004723655538753332), (3507, 0.004723242470851157), (2511, 0.004722705655828054), (4486, 0.004722648851631259), (2072, 0.004721256152032107), (4379, 0.004720734355271178), (615, 0.0047197699027707075), (3920, 0.0047194048330610975), (3959, 0.004719098944841603), (11, 0.004718204749922746), (3930, 0.004717015271961278), (918, 0.004715162292518092), (2816, 0.004714373383245955), (3648, 0.004714286782325872), (3689, 0.004712768133379202), (3549, 0.004712091161140875), (4467, 0.00470640875727396), (2222, 0.004706202790604149), (2053, 0.004703989328240587), (137, 0.004690932151292604), (472, 0.004690698752381949), (971, 0.004689811546926952), (2334, 0.004689648390455807), (2431, 0.004689326969186713), (3233, 0.004687309819969595), (4388, 0.004685497668043721), (4376, 0.004671317090422571), (1564, 0.004666388769608385), (3526, 0.004662847917927606), (2784, 0.004657035819055766), (110, 0.004656619509709286), (1077, 0.004654750533661793), (908, 0.004654645070654627), (1266, 0.004648393471986525), (2444, 0.004647570873825813), (4283, 0.004644411976695435), (3283, 0.004640903225184239), (2788, 0.004638571621707489), (850, 0.0046384518053411835), (1322, 0.004638156913931063), (1587, 0.004637898599711391), (3303, 0.0046366375410752), (832, 0.004632745386816463), (4068, 0.004628842753936141), (353, 0.004627472269247079), (28, 0.004626023709408879), (2277, 0.004618639260323918), (2487, 0.004617574336433516), (131, 0.004616143938360768), (2647, 0.004614724579099359), (945, 0.004613511505388391), (1751, 0.004609822940029187), (3551, 0.004598572546966241), (4137, 0.0045980965625248525), (1574, 0.004597886199188804), (2193, 0.004597721817660595), (209, 0.004597548912164983), (1577, 0.004596049690730853), (4503, 0.004595135328318354), (2109, 0.004592851751827397), (897, 0.0045909262773700145), (993, 0.004589784624318609), (736, 0.004586825432687813), (2169, 0.0045857269969895205), (104, 0.0045850390931994256), (4686, 0.004584052751841595), (504, 0.0045838103587527825), (1346, 0.00458230464448852), (1908, 0.0045804893530737145), (3125, 0.004578780252149804), (2501, 0.004578189074602579), (347, 0.004571702758057394), (560, 0.004570054398692464), (938, 0.004567076235490305), (1170, 0.004561394194109457), (1297, 0.004560090698243263), (3612, 0.004558017132256112), (1179, 0.00455564314844272), (272, 0.004554912972296563), (305, 0.0045518531251108815), (3343, 0.004551666545603557), (1501, 0.004550507247094538), (3955, 0.0045468589113115505), (2250, 0.004546439984852816), (3665, 0.004545431993058186), (280, 0.004544362104232847), (2195, 0.0045442612654293295), (3174, 0.00454411096064837), (4592, 0.004542165954261535), (2900, 0.004541786073192391), (3594, 0.004538274825090948), (1022, 0.00453543597411369), (525, 0.004531881331361861), (4511, 0.004531721929797006), (689, 0.004531284945276553), (610, 0.00453009469601518), (3299, 0.004527482175858807), (3963, 0.004522168970295261), (3374, 0.004521744303308243), (4394, 0.004521250193704487), (105, 0.00451875824091547), (65, 0.004518270028639441), (3477, 0.0045179865813579955), (894, 0.004513473785404742), (3435, 0.004511989970678496), (348, 0.004510326840661854), (1692, 0.004508094321338887), (1411, 0.004502364563379638), (3237, 0.004500267495622309), (769, 0.004496628744891003), (1447, 0.00449404685090979), (613, 0.0044910069628989165), (1314, 0.004482086721201993), (2128, 0.004480455897628474), (169, 0.004476514401801033), (215, 0.004476203157924025), (1888, 0.004475770685419437), (4685, 0.0044732438094258285), (4284, 0.004470553874750309), (3260, 0.004470321685689318), (1807, 0.004469148567675968), (3046, 0.004468780749836557), (84, 0.004461144747667202), (150, 0.004460128842641777), (2910, 0.004457941667554337), (4687, 0.004455112213110723), (3447, 0.00445220720896303), (2029, 0.0044482663993327684), (618, 0.0044480600240445626), (3412, 0.004443667591100918), (1653, 0.0044431392041455395), (4387, 0.004442706323693932), (3709, 0.0044408905660076395), (2698, 0.0044391940866088655), (2103, 0.004436567523167496), (1422, 0.004436235887683934), (1035, 0.0044263082992159804), (152, 0.004424696490545622), (292, 0.0044205683989601684), (72, 0.004418815549269878), (4550, 0.0044170339315354355), (790, 0.004416088200837885), (643, 0.004415152574811195), (2808, 0.0044149463109979786), (3127, 0.004413402423808648), (1267, 0.004404548911733191), (3028, 0.004402944680942234), (2571, 0.00440202669333388), (2003, 0.004401798677835416), (1645, 0.0044016320654495355), (4217, 0.0044006861846636785), (2268, 0.004400356344222861), (3641, 0.0044003548921854405), (3011, 0.004399740991104293), (4504, 0.004397489840567091), (3149, 0.0043948270612079446), (1421, 0.004392404726024769), (2642, 0.004389774693572953), (3998, 0.004389541824538117), (1597, 0.004389012880825275), (223, 0.004387463895020795), (4564, 0.004387059505881399), (521, 0.004386784116686947), (915, 0.004384300715998282), (4252, 0.004383739800844529), (585, 0.004383083943839021), (3917, 0.004382907719289368), (2131, 0.004376939068404744), (486, 0.004375488586424067), (3053, 0.004372392854202766), (782, 0.004372118317474674), (3786, 0.004371708518405394), (427, 0.004370299749250418), (3568, 0.004369629518815564), (18, 0.004368957051960814), (3246, 0.004367937563723568), (1446, 0.004366272947130094), (3567, 0.0043653285791253734), (3504, 0.004364102393611447), (3868, 0.004359581702792021), (4279, 0.004357072729931221), (2143, 0.004356225591871672), (4481, 0.00435327640593084), (883, 0.004352385171654892), (2897, 0.004352012294332328), (854, 0.004348296213503474), (4152, 0.004347055415642327), (356, 0.004346030616713211), (2409, 0.004339497463474335), (29, 0.004338880888970369), (3784, 0.004336815113091934), (1273, 0.004336289421379847), (2706, 0.0043316358257038685), (1375, 0.004330490085728112), (644, 0.00432826626998923), (3465, 0.004327731921734069), (2631, 0.004326871573491824), (4428, 0.004326418662174501), (1738, 0.004325392166912087), (171, 0.004324975459901683), (4272, 0.004322483851509774), (767, 0.004322099231995106), (260, 0.004321586090516786), (2859, 0.0043196742080307245), (1988, 0.004317693312765437), (1710, 0.004315972119620573), (3712, 0.004315916987494733), (3891, 0.004314757028365062), (3361, 0.004313068205538298), (3293, 0.004312493091780712), (4124, 0.004311250002792002), (1404, 0.0043068928380620404), (1054, 0.00430233395042229), (3819, 0.004301981832799646), (966, 0.004301929160823621), (388, 0.0043012121818820585), (2303, 0.0042971793085899695), (387, 0.004297104368426283), (4257, 0.0042921414939211455), (1895, 0.004292097505704537), (2023, 0.004290621095223334), (1973, 0.004286154960778834), (2311, 0.004286011287906129), (3193, 0.004280051279236126), (507, 0.00427821474997095), (3407, 0.0042774089832715205), (1682, 0.004275679121955252), (3057, 0.004274253182772199), (548, 0.004272621153080513), (3071, 0.004267654136744047), (279, 0.004265396706144471), (974, 0.0042652540095117954), (1903, 0.004262165934567851), (426, 0.0042616613690119815), (4059, 0.004260876236677733), (1620, 0.004260377486845371), (2552, 0.0042598276142016235), (3399, 0.004256762753013467), (492, 0.004253917984455146), (4634, 0.004251507697917778), (3909, 0.0042509716274686474), (3966, 0.00424935258011902), (1778, 0.004243878554485806), (690, 0.004239187481759929), (417, 0.0042321890628769865), (2446, 0.004231848019952994), (1456, 0.0042290818248095765), (2874, 0.004228730075024057), (454, 0.004228639494882321), (3718, 0.004224932946069329), (96, 0.004216945023736034), (1642, 0.004216895881740459), (9, 0.0042163970858679215), (2777, 0.004215893361319254), (3321, 0.004215715645164395), (978, 0.0042143315273172645), (3854, 0.0042134036947705485), (805, 0.004213306069655659), (2491, 0.004200814424107467), (899, 0.004200042136965371), (2482, 0.004199756484500597), (324, 0.0041994435182508925), (669, 0.004192285966952915), (3226, 0.004190548488168492), (907, 0.004190001331874891), (4176, 0.004189556107871829), (1984, 0.004187712540249384), (829, 0.004185525202435002), (4649, 0.004184302556056278), (788, 0.004183406486209866), (1157, 0.004180528701127563), (3306, 0.004177108677904146), (416, 0.004175247899555284), (3284, 0.0041729366931402756), (821, 0.004172805221697735), (4600, 0.004169633891096056), (2920, 0.004168820574152228), (1782, 0.004167220046000306), (4339, 0.0041619997196906565), (2954, 0.004160265880886034), (4689, 0.0041575198856760726), (1360, 0.004146755646578127), (2749, 0.004146660747528121), (3295, 0.004146377133166305), (1288, 0.004145583315242718), (1935, 0.004135743156668488), (1626, 0.004128455068495059), (4647, 0.0041200578967610785), (1809, 0.0041177257764011726), (1719, 0.004112014540536622), (1816, 0.004107164791914495), (3336, 0.004101005289785342), (3986, 0.004099545582641039), (4143, 0.004095603011894822), (722, 0.004093998645432166), (2514, 0.004093440590901299), (3108, 0.004089360649400919), (885, 0.0040867656689054285), (1808, 0.004086212776770055), (3231, 0.0040801039246485685), (4590, 0.004079881296711323), (2156, 0.00405713038394381), (1994, 0.004053986831030194), (4057, 0.004049858861081988), (2587, 0.0040433648057249675), (4450, 0.004038929150111199), (882, 0.004038841080246414), (1468, 0.004038627003377581), (3598, 0.004033324911724528), (33, 0.0040265850669143075), (184, 0.004012180922923118), (545, 0.004002524002355422), (756, 0.0040009298587303), (1186, 0.004000686390964255), (4156, 0.003993930807652027), (3637, 0.003984544321652931), (2805, 0.003984258067828425), (1194, 0.003980826728945193), (1301, 0.003980585802348071), (924, 0.003968728788666689), (4473, 0.003968218012837641), (4353, 0.0039567966795904476), (3684, 0.003954204211741825), (1772, 0.003953770812453761), (4748, 0.003946040484328357), (2942, 0.0039426463259165274), (3748, 0.00394218615242918), (2842, 0.0039392935058498455), (1828, 0.003931438263789883), (234, 0.003921353399300661), (2761, 0.003920861273688104), (1546, 0.003919661490141282), (3393, 0.003918643469392419), (86, 0.003918431850398036), (2447, 0.003907798774029998), (2291, 0.0039035233866007604), (3776, 0.0039021743933127634), (1215, 0.003900004595755581), (60, 0.003897561597743472), (2020, 0.003886473345483258), (1120, 0.003884528217534161), (1802, 0.0038807309155858703), (1743, 0.0038782544273141986), (1178, 0.003870538357827273), (1352, 0.003870272844566853), (1046, 0.003869928962671126), (2933, 0.0038693420065047408), (2622, 0.003865603109978414), (2855, 0.0038638226912600603), (2204, 0.0038623835070870044), (1971, 0.003861890266781529), (3668, 0.0038565263336775347), (1010, 0.0038536543038357506), (1845, 0.0038529960654732245), (1910, 0.003849141208369488), (639, 0.003847400764072665), (175, 0.0038473385384407343), (3674, 0.003846068933100226), (2076, 0.0038427584254638147), (547, 0.0038414381003391467), (2627, 0.003834355620157874), (195, 0.0038296963052363866), (3658, 0.003828671184935244), (3821, 0.0038210971653181236), (64, 0.0038160627956413886), (186, 0.003810254304393999), (3928, 0.003805916384989568), (1981, 0.003804993596439301), (3713, 0.0037987820684862216), (2481, 0.003794310388383744), (3430, 0.0037924980368152913), (3927, 0.003792409871839764), (1221, 0.003787978494693523), (2969, 0.0037789224695212137), (2563, 0.003768253254320037), (88, 0.0037579796938859164), (3957, 0.0037555044271081694), (1530, 0.003731331655309411), (1369, 0.0037291756937534414), (2526, 0.003727907701004503), (1950, 0.0037216408070164697), (381, 0.003721359891198044), (156, 0.003701321679800416), (237, 0.00369640794854745), (1377, 0.0036754076015828477), (3410, 0.0036664729267466395), (510, 0.0036420062534721857), (2774, 0.003640830144376077), (3538, 0.003633022464932957), (294, 0.0036278065012169984), (2078, 0.0036236370154602597), (1886, 0.003621426047343727), (2734, 0.003621344861050046), (2377, 0.0036168535989041517), (3362, 0.003607906958865951), (168, 0.003580906086472086), (2326, 0.0035777226783895296), (3199, 0.0035283467484474363), (853, 0.0035228071274864543), (106, 0.003507351801342268), (3316, 0.0035048255673547956), (3626, 0.003495609308776523), (3667, 0.003483460356368955), (3356, 0.0034364896709085527), (4373, 0.003429910924534265), (2636, 0.003420684230399299), (3983, 0.0034134070881633696), (1277, 0.003407205502061628), (3546, 0.003399330472296334), (293, 0.003239634307215224), (3365, 0.0032131022701420587), (1, 0.0), (4, 0.0), (5, 0.0), (6, 0.0), (8, 0.0), (15, 0.0), (16, 0.0), (17, 0.0), (19, 0.0), (21, 0.0), (22, 0.0), (23, 0.0), (26, 0.0), (27, 0.0), (30, 0.0), (40, 0.0), (42, 0.0), (46, 0.0), (47, 0.0), (49, 0.0), (50, 0.0), (51, 0.0), (52, 0.0), (55, 0.0), (59, 0.0), (61, 0.0), (62, 0.0), (63, 0.0), (66, 0.0), (68, 0.0), (69, 0.0), (70, 0.0), (71, 0.0), (76, 0.0), (85, 0.0), (87, 0.0), (89, 0.0), (90, 0.0), (93, 0.0), (95, 0.0), (98, 0.0), (103, 0.0), (107, 0.0), (109, 0.0), (111, 0.0), (113, 0.0), (114, 0.0), (115, 0.0), (118, 0.0), (121, 0.0), (125, 0.0), (126, 0.0), (127, 0.0), (128, 0.0), (132, 0.0), (133, 0.0), (134, 0.0), (136, 0.0), (139, 0.0), (140, 0.0), (141, 0.0), (142, 0.0), (143, 0.0), (144, 0.0), (145, 0.0), (147, 0.0), (149, 0.0), (154, 0.0), (155, 0.0), (157, 0.0), (158, 0.0), (161, 0.0), (164, 0.0), (167, 0.0), (172, 0.0), (173, 0.0), (174, 0.0), (176, 0.0), (178, 0.0), (181, 0.0), (187, 0.0), (190, 0.0), (193, 0.0), (194, 0.0), (197, 0.0), (198, 0.0), (203, 0.0), (204, 0.0), (205, 0.0), (206, 0.0), (208, 0.0), (210, 0.0), (213, 0.0), (217, 0.0), (226, 0.0), (227, 0.0), (229, 0.0), (230, 0.0), (233, 0.0), (235, 0.0), (236, 0.0), (241, 0.0), (244, 0.0), (247, 0.0), (252, 0.0), (253, 0.0), (254, 0.0), (255, 0.0), (256, 0.0), (262, 0.0), (268, 0.0), (270, 0.0), (274, 0.0), (276, 0.0), (278, 0.0), (281, 0.0), (282, 0.0), (285, 0.0), (286, 0.0), (289, 0.0), (290, 0.0), (295, 0.0), (296, 0.0), (302, 0.0), (304, 0.0), (314, 0.0), (315, 0.0), (317, 0.0), (318, 0.0), (321, 0.0), (322, 0.0), (323, 0.0), (325, 0.0), (326, 0.0), (332, 0.0), (333, 0.0), (349, 0.0), (350, 0.0), (355, 0.0), (358, 0.0), (360, 0.0), (364, 0.0), (366, 0.0), (370, 0.0), (373, 0.0), (374, 0.0), (375, 0.0), (377, 0.0), (378, 0.0), (379, 0.0), (382, 0.0), (384, 0.0), (385, 0.0), (386, 0.0), (389, 0.0), (390, 0.0), (393, 0.0), (396, 0.0), (397, 0.0), (398, 0.0), (402, 0.0), (406, 0.0), (419, 0.0), (422, 0.0), (429, 0.0), (431, 0.0), (432, 0.0), (434, 0.0), (435, 0.0), (436, 0.0), (438, 0.0), (440, 0.0), (443, 0.0), (445, 0.0), (446, 0.0), (447, 0.0), (449, 0.0), (455, 0.0), (458, 0.0), (463, 0.0), (464, 0.0), (465, 0.0), (466, 0.0), (467, 0.0), (468, 0.0), (473, 0.0), (474, 0.0), (478, 0.0), (479, 0.0), (480, 0.0), (482, 0.0), (485, 0.0), (487, 0.0), (488, 0.0), (489, 0.0), (493, 0.0), (494, 0.0), (499, 0.0), (501, 0.0), (502, 0.0), (503, 0.0), (505, 0.0), (513, 0.0), (514, 0.0), (515, 0.0), (518, 0.0), (520, 0.0), (526, 0.0), (531, 0.0), (532, 0.0), (533, 0.0), (534, 0.0), (535, 0.0), (536, 0.0), (539, 0.0), (541, 0.0), (542, 0.0), (543, 0.0), (544, 0.0), (550, 0.0), (564, 0.0), (565, 0.0), (567, 0.0), (570, 0.0), (571, 0.0), (572, 0.0), (573, 0.0), (574, 0.0), (578, 0.0), (581, 0.0), (582, 0.0), (586, 0.0), (587, 0.0), (589, 0.0), (591, 0.0), (592, 0.0), (593, 0.0), (595, 0.0), (596, 0.0), (598, 0.0), (602, 0.0), (604, 0.0), (605, 0.0), (606, 0.0), (608, 0.0), (611, 0.0), (612, 0.0), (622, 0.0), (623, 0.0), (624, 0.0), (625, 0.0), (626, 0.0), (627, 0.0), (629, 0.0), (632, 0.0), (636, 0.0), (637, 0.0), (638, 0.0), (642, 0.0), (645, 0.0), (646, 0.0), (647, 0.0), (648, 0.0), (649, 0.0), (650, 0.0), (651, 0.0), (655, 0.0), (658, 0.0), (659, 0.0), (660, 0.0), (663, 0.0), (667, 0.0), (670, 0.0), (671, 0.0), (672, 0.0), (673, 0.0), (674, 0.0), (676, 0.0), (678, 0.0), (679, 0.0), (682, 0.0), (688, 0.0), (693, 0.0), (694, 0.0), (696, 0.0), (697, 0.0), (698, 0.0), (702, 0.0), (705, 0.0), (708, 0.0), (709, 0.0), (711, 0.0), (714, 0.0), (716, 0.0), (718, 0.0), (721, 0.0), (728, 0.0), (729, 0.0), (732, 0.0), (734, 0.0), (735, 0.0), (741, 0.0), (743, 0.0), (751, 0.0), (753, 0.0), (754, 0.0), (755, 0.0), (759, 0.0), (760, 0.0), (761, 0.0), (764, 0.0), (766, 0.0), (771, 0.0), (772, 0.0), (774, 0.0), (777, 0.0), (783, 0.0), (784, 0.0), (786, 0.0), (791, 0.0), (793, 0.0), (795, 0.0), (796, 0.0), (797, 0.0), (800, 0.0), (802, 0.0), (804, 0.0), (806, 0.0), (808, 0.0), (809, 0.0), (815, 0.0), (816, 0.0), (817, 0.0), (819, 0.0), (822, 0.0), (823, 0.0), (825, 0.0), (826, 0.0), (827, 0.0), (828, 0.0), (830, 0.0), (837, 0.0), (838, 0.0), (841, 0.0), (842, 0.0), (843, 0.0), (845, 0.0), (846, 0.0), (848, 0.0), (849, 0.0), (851, 0.0), (856, 0.0), (857, 0.0), (858, 0.0), (860, 0.0), (863, 0.0), (865, 0.0), (867, 0.0), (868, 0.0), (869, 0.0), (873, 0.0), (876, 0.0), (877, 0.0), (879, 0.0), (880, 0.0), (884, 0.0), (886, 0.0), (888, 0.0), (889, 0.0), (892, 0.0), (896, 0.0), (900, 0.0), (901, 0.0), (903, 0.0), (905, 0.0), (906, 0.0), (910, 0.0), (914, 0.0), (917, 0.0), (921, 0.0), (922, 0.0), (926, 0.0), (927, 0.0), (933, 0.0), (936, 0.0), (937, 0.0), (939, 0.0), (941, 0.0), (942, 0.0), (943, 0.0), (947, 0.0), (949, 0.0), (951, 0.0), (954, 0.0), (955, 0.0), (956, 0.0), (958, 0.0), (959, 0.0), (967, 0.0), (972, 0.0), (975, 0.0), (976, 0.0), (980, 0.0), (983, 0.0), (984, 0.0), (985, 0.0), (986, 0.0), (987, 0.0), (989, 0.0), (990, 0.0), (996, 0.0), (998, 0.0), (999, 0.0), (1012, 0.0), (1017, 0.0), (1019, 0.0), (1020, 0.0), (1021, 0.0), (1023, 0.0), (1024, 0.0), (1026, 0.0), (1027, 0.0), (1028, 0.0), (1030, 0.0), (1032, 0.0), (1034, 0.0), (1036, 0.0), (1037, 0.0), (1038, 0.0), (1040, 0.0), (1042, 0.0), (1045, 0.0), (1049, 0.0), (1050, 0.0), (1051, 0.0), (1053, 0.0), (1055, 0.0), (1058, 0.0), (1061, 0.0), (1062, 0.0), (1063, 0.0), (1064, 0.0), (1065, 0.0), (1069, 0.0), (1070, 0.0), (1072, 0.0), (1073, 0.0), (1075, 0.0), (1076, 0.0), (1078, 0.0), (1083, 0.0), (1086, 0.0), (1089, 0.0), (1091, 0.0), (1094, 0.0), (1096, 0.0), (1099, 0.0), (1100, 0.0), (1101, 0.0), (1103, 0.0), (1107, 0.0), (1112, 0.0), (1115, 0.0), (1117, 0.0), (1121, 0.0), (1122, 0.0), (1124, 0.0), (1125, 0.0), (1126, 0.0), (1127, 0.0), (1128, 0.0), (1133, 0.0), (1137, 0.0), (1138, 0.0), (1145, 0.0), (1147, 0.0), (1148, 0.0), (1149, 0.0), (1151, 0.0), (1152, 0.0), (1154, 0.0), (1156, 0.0), (1159, 0.0), (1160, 0.0), (1161, 0.0), (1162, 0.0), (1164, 0.0), (1169, 0.0), (1174, 0.0), (1175, 0.0), (1176, 0.0), (1180, 0.0), (1181, 0.0), (1183, 0.0), (1184, 0.0), (1187, 0.0), (1188, 0.0), (1190, 0.0), (1193, 0.0), (1199, 0.0), (1200, 0.0), (1201, 0.0), (1203, 0.0), (1209, 0.0), (1212, 0.0), (1213, 0.0), (1219, 0.0), (1224, 0.0), (1225, 0.0), (1226, 0.0), (1227, 0.0), (1228, 0.0), (1230, 0.0), (1231, 0.0), (1232, 0.0), (1236, 0.0), (1237, 0.0), (1240, 0.0), (1242, 0.0), (1243, 0.0), (1244, 0.0), (1245, 0.0), (1248, 0.0), (1249, 0.0), (1252, 0.0), (1255, 0.0), (1256, 0.0), (1258, 0.0), (1260, 0.0), (1261, 0.0), (1264, 0.0), (1269, 0.0), (1275, 0.0), (1276, 0.0), (1280, 0.0), (1281, 0.0), (1283, 0.0), (1284, 0.0), (1285, 0.0), (1286, 0.0), (1290, 0.0), (1292, 0.0), (1293, 0.0), (1302, 0.0), (1303, 0.0), (1309, 0.0), (1311, 0.0), (1313, 0.0), (1316, 0.0), (1317, 0.0), (1320, 0.0), (1323, 0.0), (1325, 0.0), (1326, 0.0), (1330, 0.0), (1331, 0.0), (1332, 0.0), (1335, 0.0), (1337, 0.0), (1339, 0.0), (1340, 0.0), (1344, 0.0), (1348, 0.0), (1350, 0.0), (1353, 0.0), (1355, 0.0), (1357, 0.0), (1359, 0.0), (1362, 0.0), (1366, 0.0), (1371, 0.0), (1372, 0.0), (1376, 0.0), (1379, 0.0), (1382, 0.0), (1383, 0.0), (1385, 0.0), (1386, 0.0), (1387, 0.0), (1388, 0.0), (1393, 0.0), (1397, 0.0), (1398, 0.0), (1399, 0.0), (1403, 0.0), (1405, 0.0), (1408, 0.0), (1409, 0.0), (1410, 0.0), (1414, 0.0), (1415, 0.0), (1417, 0.0), (1419, 0.0), (1424, 0.0), (1427, 0.0), (1429, 0.0), (1433, 0.0), (1434, 0.0), (1435, 0.0), (1437, 0.0), (1440, 0.0), (1441, 0.0), (1444, 0.0), (1445, 0.0), (1448, 0.0), (1450, 0.0), (1455, 0.0), (1457, 0.0), (1462, 0.0), (1470, 0.0), (1473, 0.0), (1475, 0.0), (1476, 0.0), (1478, 0.0), (1479, 0.0), (1481, 0.0), (1483, 0.0), (1484, 0.0), (1485, 0.0), (1488, 0.0), (1489, 0.0), (1490, 0.0), (1492, 0.0), (1497, 0.0), (1499, 0.0), (1504, 0.0), (1507, 0.0), (1508, 0.0), (1514, 0.0), (1518, 0.0), (1519, 0.0), (1528, 0.0), (1538, 0.0), (1540, 0.0), (1542, 0.0), (1544, 0.0), (1545, 0.0), (1547, 0.0), (1549, 0.0), (1550, 0.0), (1554, 0.0), (1563, 0.0), (1566, 0.0), (1569, 0.0), (1570, 0.0), (1572, 0.0), (1575, 0.0), (1576, 0.0), (1580, 0.0), (1582, 0.0), (1585, 0.0), (1589, 0.0), (1591, 0.0), (1592, 0.0), (1596, 0.0), (1599, 0.0), (1603, 0.0), (1605, 0.0), (1609, 0.0), (1611, 0.0), (1612, 0.0), (1616, 0.0), (1618, 0.0), (1621, 0.0), (1624, 0.0), (1625, 0.0), (1628, 0.0), (1629, 0.0), (1637, 0.0), (1638, 0.0), (1639, 0.0), (1641, 0.0), (1644, 0.0), (1646, 0.0), (1651, 0.0), (1652, 0.0), (1654, 0.0), (1655, 0.0), (1656, 0.0), (1657, 0.0), (1658, 0.0), (1659, 0.0), (1665, 0.0), (1671, 0.0), (1672, 0.0), (1673, 0.0), (1674, 0.0), (1677, 0.0), (1680, 0.0), (1685, 0.0), (1686, 0.0), (1693, 0.0), (1694, 0.0), (1696, 0.0), (1703, 0.0), (1705, 0.0), (1708, 0.0), (1712, 0.0), (1715, 0.0), (1717, 0.0), (1721, 0.0), (1722, 0.0), (1728, 0.0), (1730, 0.0), (1732, 0.0), (1734, 0.0), (1735, 0.0), (1736, 0.0), (1737, 0.0), (1739, 0.0), (1740, 0.0), (1741, 0.0), (1748, 0.0), (1749, 0.0), (1752, 0.0), (1757, 0.0), (1759, 0.0), (1761, 0.0), (1763, 0.0), (1765, 0.0), (1767, 0.0), (1770, 0.0), (1774, 0.0), (1777, 0.0), (1779, 0.0), (1780, 0.0), (1785, 0.0), (1786, 0.0), (1789, 0.0), (1790, 0.0), (1791, 0.0), (1796, 0.0), (1797, 0.0), (1801, 0.0), (1803, 0.0), (1806, 0.0), (1811, 0.0), (1814, 0.0), (1815, 0.0), (1822, 0.0), (1826, 0.0), (1829, 0.0), (1832, 0.0), (1833, 0.0), (1834, 0.0), (1836, 0.0), (1846, 0.0), (1847, 0.0), (1848, 0.0), (1853, 0.0), (1855, 0.0), (1856, 0.0), (1862, 0.0), (1865, 0.0), (1866, 0.0), (1867, 0.0), (1868, 0.0), (1869, 0.0), (1870, 0.0), (1872, 0.0), (1874, 0.0), (1879, 0.0), (1880, 0.0), (1884, 0.0), (1885, 0.0), (1890, 0.0), (1892, 0.0), (1894, 0.0), (1897, 0.0), (1900, 0.0), (1902, 0.0), (1905, 0.0), (1906, 0.0), (1909, 0.0), (1912, 0.0), (1917, 0.0), (1922, 0.0), (1923, 0.0), (1924, 0.0), (1934, 0.0), (1937, 0.0), (1938, 0.0), (1939, 0.0), (1941, 0.0), (1942, 0.0), (1944, 0.0), (1945, 0.0), (1946, 0.0), (1947, 0.0), (1949, 0.0), (1956, 0.0), (1959, 0.0), (1960, 0.0), (1963, 0.0), (1965, 0.0), (1967, 0.0), (1972, 0.0), (1974, 0.0), (1976, 0.0), (1977, 0.0), (1978, 0.0), (1980, 0.0), (1983, 0.0), (1989, 0.0), (1995, 0.0), (2001, 0.0), (2002, 0.0), (2007, 0.0), (2009, 0.0), (2010, 0.0), (2011, 0.0), (2018, 0.0), (2024, 0.0), (2025, 0.0), (2026, 0.0), (2028, 0.0), (2033, 0.0), (2034, 0.0), (2035, 0.0), (2038, 0.0), (2039, 0.0), (2040, 0.0), (2042, 0.0), (2044, 0.0), (2048, 0.0), (2051, 0.0), (2054, 0.0), (2060, 0.0), (2063, 0.0), (2067, 0.0), (2068, 0.0), (2069, 0.0), (2075, 0.0), (2077, 0.0), (2080, 0.0), (2081, 0.0), (2083, 0.0), (2084, 0.0), (2085, 0.0), (2088, 0.0), (2089, 0.0), (2090, 0.0), (2091, 0.0), (2093, 0.0), (2096, 0.0), (2097, 0.0), (2098, 0.0), (2104, 0.0), (2105, 0.0), (2106, 0.0), (2108, 0.0), (2113, 0.0), (2116, 0.0), (2120, 0.0), (2121, 0.0), (2122, 0.0), (2129, 0.0), (2130, 0.0), (2132, 0.0), (2133, 0.0), (2134, 0.0), (2137, 0.0), (2138, 0.0), (2140, 0.0), (2141, 0.0), (2142, 0.0), (2144, 0.0), (2146, 0.0), (2148, 0.0), (2149, 0.0), (2151, 0.0), (2155, 0.0), (2157, 0.0), (2159, 0.0), (2162, 0.0), (2163, 0.0), (2164, 0.0), (2165, 0.0), (2166, 0.0), (2168, 0.0), (2170, 0.0), (2172, 0.0), (2173, 0.0), (2181, 0.0), (2185, 0.0), (2186, 0.0), (2187, 0.0), (2188, 0.0), (2189, 0.0), (2190, 0.0), (2191, 0.0), (2192, 0.0), (2197, 0.0), (2200, 0.0), (2202, 0.0), (2203, 0.0), (2206, 0.0), (2208, 0.0), (2209, 0.0), (2212, 0.0), (2213, 0.0), (2216, 0.0), (2217, 0.0), (2219, 0.0), (2220, 0.0), (2225, 0.0), (2226, 0.0), (2228, 0.0), (2230, 0.0), (2231, 0.0), (2238, 0.0), (2240, 0.0), (2242, 0.0), (2243, 0.0), (2244, 0.0), (2247, 0.0), (2248, 0.0), (2249, 0.0), (2251, 0.0), (2253, 0.0), (2254, 0.0), (2256, 0.0), (2258, 0.0), (2264, 0.0), (2266, 0.0), (2270, 0.0), (2271, 0.0), (2274, 0.0), (2275, 0.0), (2276, 0.0), (2279, 0.0), (2280, 0.0), (2282, 0.0), (2286, 0.0), (2288, 0.0), (2289, 0.0), (2292, 0.0), (2293, 0.0), (2297, 0.0), (2298, 0.0), (2299, 0.0), (2300, 0.0), (2302, 0.0), (2304, 0.0), (2305, 0.0), (2306, 0.0), (2307, 0.0), (2308, 0.0), (2309, 0.0), (2310, 0.0), (2312, 0.0), (2313, 0.0), (2315, 0.0), (2321, 0.0), (2323, 0.0), (2324, 0.0), (2325, 0.0), (2328, 0.0), (2333, 0.0), (2336, 0.0), (2341, 0.0), (2342, 0.0), (2343, 0.0), (2344, 0.0), (2345, 0.0), (2346, 0.0), (2347, 0.0), (2348, 0.0), (2349, 0.0), (2350, 0.0), (2354, 0.0), (2355, 0.0), (2356, 0.0), (2359, 0.0), (2361, 0.0), (2366, 0.0), (2368, 0.0), (2370, 0.0), (2374, 0.0), (2375, 0.0), (2378, 0.0), (2380, 0.0), (2383, 0.0), (2384, 0.0), (2385, 0.0), (2386, 0.0), (2388, 0.0), (2391, 0.0), (2392, 0.0), (2394, 0.0), (2395, 0.0), (2396, 0.0), (2397, 0.0), (2402, 0.0), (2403, 0.0), (2404, 0.0), (2405, 0.0), (2407, 0.0), (2410, 0.0), (2411, 0.0), (2415, 0.0), (2417, 0.0), (2420, 0.0), (2424, 0.0), (2425, 0.0), (2426, 0.0), (2428, 0.0), (2429, 0.0), (2434, 0.0), (2437, 0.0), (2438, 0.0), (2441, 0.0), (2445, 0.0), (2453, 0.0), (2454, 0.0), (2455, 0.0), (2459, 0.0), (2460, 0.0), (2464, 0.0), (2465, 0.0), (2468, 0.0), (2469, 0.0), (2471, 0.0), (2472, 0.0), (2475, 0.0), (2476, 0.0), (2477, 0.0), (2478, 0.0), (2479, 0.0), (2483, 0.0), (2488, 0.0), (2489, 0.0), (2490, 0.0), (2495, 0.0), (2499, 0.0), (2500, 0.0), (2502, 0.0), (2505, 0.0), (2506, 0.0), (2508, 0.0), (2512, 0.0), (2515, 0.0), (2519, 0.0), (2520, 0.0), (2523, 0.0), (2524, 0.0), (2529, 0.0), (2533, 0.0), (2535, 0.0), (2536, 0.0), (2537, 0.0), (2540, 0.0), (2542, 0.0), (2543, 0.0), (2544, 0.0), (2545, 0.0), (2548, 0.0), (2551, 0.0), (2556, 0.0), (2557, 0.0), (2558, 0.0), (2559, 0.0), (2561, 0.0), (2566, 0.0), (2567, 0.0), (2569, 0.0), (2570, 0.0), (2572, 0.0), (2575, 0.0), (2576, 0.0), (2578, 0.0), (2580, 0.0), (2585, 0.0), (2586, 0.0), (2588, 0.0), (2589, 0.0), (2594, 0.0), (2595, 0.0), (2597, 0.0), (2598, 0.0), (2600, 0.0), (2601, 0.0), (2602, 0.0), (2607, 0.0), (2613, 0.0), (2619, 0.0), (2620, 0.0), (2621, 0.0), (2623, 0.0), (2624, 0.0), (2628, 0.0), (2629, 0.0), (2634, 0.0), (2635, 0.0), (2639, 0.0), (2648, 0.0), (2649, 0.0), (2651, 0.0), (2653, 0.0), (2655, 0.0), (2657, 0.0), (2658, 0.0), (2659, 0.0), (2661, 0.0), (2662, 0.0), (2663, 0.0), (2664, 0.0), (2667, 0.0), (2669, 0.0), (2671, 0.0), (2674, 0.0), (2676, 0.0), (2677, 0.0), (2679, 0.0), (2681, 0.0), (2684, 0.0), (2687, 0.0), (2692, 0.0), (2694, 0.0), (2695, 0.0), (2696, 0.0), (2699, 0.0), (2700, 0.0), (2701, 0.0), (2702, 0.0), (2703, 0.0), (2705, 0.0), (2707, 0.0), (2709, 0.0), (2715, 0.0), (2716, 0.0), (2718, 0.0), (2722, 0.0), (2723, 0.0), (2726, 0.0), (2727, 0.0), (2728, 0.0), (2731, 0.0), (2735, 0.0), (2737, 0.0), (2742, 0.0), (2743, 0.0), (2744, 0.0), (2745, 0.0), (2747, 0.0), (2748, 0.0), (2750, 0.0), (2751, 0.0), (2753, 0.0), (2754, 0.0), (2757, 0.0), (2760, 0.0), (2762, 0.0), (2764, 0.0), (2767, 0.0), (2768, 0.0), (2771, 0.0), (2775, 0.0), (2776, 0.0), (2778, 0.0), (2780, 0.0), (2783, 0.0), (2786, 0.0), (2787, 0.0), (2794, 0.0), (2795, 0.0), (2796, 0.0), (2797, 0.0), (2800, 0.0), (2803, 0.0), (2804, 0.0), (2811, 0.0), (2815, 0.0), (2820, 0.0), (2821, 0.0), (2822, 0.0), (2823, 0.0), (2825, 0.0), (2826, 0.0), (2833, 0.0), (2836, 0.0), (2838, 0.0), (2843, 0.0), (2845, 0.0), (2846, 0.0), (2847, 0.0), (2848, 0.0), (2849, 0.0), (2850, 0.0), (2852, 0.0), (2853, 0.0), (2857, 0.0), (2858, 0.0), (2860, 0.0), (2861, 0.0), (2863, 0.0), (2864, 0.0), (2866, 0.0), (2868, 0.0), (2869, 0.0), (2870, 0.0), (2872, 0.0), (2875, 0.0), (2876, 0.0), (2877, 0.0), (2879, 0.0), (2880, 0.0), (2881, 0.0), (2882, 0.0), (2883, 0.0), (2884, 0.0), (2886, 0.0), (2888, 0.0), (2889, 0.0), (2890, 0.0), (2891, 0.0), (2893, 0.0), (2894, 0.0), (2895, 0.0), (2898, 0.0), (2902, 0.0), (2904, 0.0), (2905, 0.0), (2907, 0.0), (2908, 0.0), (2912, 0.0), (2913, 0.0), (2914, 0.0), (2915, 0.0), (2917, 0.0), (2918, 0.0), (2919, 0.0), (2922, 0.0), (2924, 0.0), (2925, 0.0), (2926, 0.0), (2928, 0.0), (2930, 0.0), (2932, 0.0), (2934, 0.0), (2935, 0.0), (2936, 0.0), (2937, 0.0), (2939, 0.0), (2941, 0.0), (2943, 0.0), (2945, 0.0), (2946, 0.0), (2947, 0.0), (2950, 0.0), (2953, 0.0), (2955, 0.0), (2956, 0.0), (2957, 0.0), (2958, 0.0), (2959, 0.0), (2960, 0.0), (2961, 0.0), (2965, 0.0), (2967, 0.0), (2968, 0.0), (2970, 0.0), (2971, 0.0), (2974, 0.0), (2978, 0.0), (2983, 0.0), (2986, 0.0), (2987, 0.0), (2988, 0.0), (2989, 0.0), (2990, 0.0), (2993, 0.0), (2994, 0.0), (2995, 0.0), (2997, 0.0), (2999, 0.0), (3000, 0.0), (3004, 0.0), (3006, 0.0), (3007, 0.0), (3008, 0.0), (3009, 0.0), (3012, 0.0), (3013, 0.0), (3014, 0.0), (3015, 0.0), (3016, 0.0), (3017, 0.0), (3019, 0.0), (3020, 0.0), (3025, 0.0), (3026, 0.0), (3029, 0.0), (3030, 0.0), (3031, 0.0), (3032, 0.0), (3034, 0.0), (3035, 0.0), (3036, 0.0), (3037, 0.0), (3038, 0.0), (3040, 0.0), (3041, 0.0), (3042, 0.0), (3043, 0.0), (3044, 0.0), (3045, 0.0), (3049, 0.0), (3050, 0.0), (3051, 0.0), (3052, 0.0), (3054, 0.0), (3055, 0.0), (3056, 0.0), (3059, 0.0), (3061, 0.0), (3062, 0.0), (3063, 0.0), (3064, 0.0), (3065, 0.0), (3070, 0.0), (3072, 0.0), (3074, 0.0), (3075, 0.0), (3076, 0.0), (3079, 0.0), (3082, 0.0), (3087, 0.0), (3088, 0.0), (3093, 0.0), (3094, 0.0), (3095, 0.0), (3098, 0.0), (3099, 0.0), (3100, 0.0), (3101, 0.0), (3102, 0.0), (3104, 0.0), (3106, 0.0), (3109, 0.0), (3110, 0.0), (3113, 0.0), (3115, 0.0), (3117, 0.0), (3119, 0.0), (3120, 0.0), (3123, 0.0), (3128, 0.0), (3132, 0.0), (3134, 0.0), (3135, 0.0), (3136, 0.0), (3139, 0.0), (3140, 0.0), (3143, 0.0), (3147, 0.0), (3148, 0.0), (3153, 0.0), (3154, 0.0), (3155, 0.0), (3156, 0.0), (3158, 0.0), (3159, 0.0), (3162, 0.0), (3163, 0.0), (3165, 0.0), (3166, 0.0), (3167, 0.0), (3168, 0.0), (3170, 0.0), (3171, 0.0), (3173, 0.0), (3175, 0.0), (3176, 0.0), (3177, 0.0), (3178, 0.0), (3180, 0.0), (3182, 0.0), (3184, 0.0), (3185, 0.0), (3186, 0.0), (3188, 0.0), (3190, 0.0), (3192, 0.0), (3194, 0.0), (3196, 0.0), (3198, 0.0), (3202, 0.0), (3203, 0.0), (3206, 0.0), (3207, 0.0), (3210, 0.0), (3213, 0.0), (3214, 0.0), (3215, 0.0), (3216, 0.0), (3217, 0.0), (3220, 0.0), (3223, 0.0), (3224, 0.0), (3225, 0.0), (3227, 0.0), (3232, 0.0), (3239, 0.0), (3241, 0.0), (3242, 0.0), (3243, 0.0), (3247, 0.0), (3248, 0.0), (3249, 0.0), (3251, 0.0), (3253, 0.0), (3254, 0.0), (3255, 0.0), (3257, 0.0), (3258, 0.0), (3261, 0.0), (3262, 0.0), (3263, 0.0), (3266, 0.0), (3267, 0.0), (3268, 0.0), (3269, 0.0), (3273, 0.0), (3274, 0.0), (3275, 0.0), (3276, 0.0), (3282, 0.0), (3289, 0.0), (3290, 0.0), (3291, 0.0), (3292, 0.0), (3296, 0.0), (3298, 0.0), (3300, 0.0), (3301, 0.0), (3302, 0.0), (3305, 0.0), (3307, 0.0), (3308, 0.0), (3309, 0.0), (3310, 0.0), (3314, 0.0), (3315, 0.0), (3318, 0.0), (3319, 0.0), (3322, 0.0), (3323, 0.0), (3324, 0.0), (3325, 0.0), (3326, 0.0), (3329, 0.0), (3331, 0.0), (3333, 0.0), (3337, 0.0), (3339, 0.0), (3340, 0.0), (3341, 0.0), (3346, 0.0), (3347, 0.0), (3348, 0.0), (3349, 0.0), (3351, 0.0), (3352, 0.0), (3353, 0.0), (3354, 0.0), (3355, 0.0), (3358, 0.0), (3359, 0.0), (3369, 0.0), (3371, 0.0), (3372, 0.0), (3373, 0.0), (3375, 0.0), (3377, 0.0), (3380, 0.0), (3382, 0.0), (3383, 0.0), (3387, 0.0), (3391, 0.0), (3396, 0.0), (3400, 0.0), (3402, 0.0), (3404, 0.0), (3405, 0.0), (3406, 0.0), (3413, 0.0), (3415, 0.0), (3416, 0.0), (3417, 0.0), (3418, 0.0), (3419, 0.0), (3421, 0.0), (3422, 0.0), (3423, 0.0), (3425, 0.0), (3426, 0.0), (3427, 0.0), (3428, 0.0), (3429, 0.0), (3431, 0.0), (3432, 0.0), (3434, 0.0), (3441, 0.0), (3442, 0.0), (3443, 0.0), (3449, 0.0), (3451, 0.0), (3452, 0.0), (3453, 0.0), (3455, 0.0), (3460, 0.0), (3462, 0.0), (3466, 0.0), (3467, 0.0), (3468, 0.0), (3475, 0.0), (3478, 0.0), (3479, 0.0), (3483, 0.0), (3486, 0.0), (3490, 0.0), (3493, 0.0), (3494, 0.0), (3496, 0.0), (3497, 0.0), (3498, 0.0), (3499, 0.0), (3500, 0.0), (3501, 0.0), (3506, 0.0), (3508, 0.0), (3509, 0.0), (3510, 0.0), (3511, 0.0), (3512, 0.0), (3513, 0.0), (3514, 0.0), (3517, 0.0), (3519, 0.0), (3521, 0.0), (3523, 0.0), (3525, 0.0), (3527, 0.0), (3529, 0.0), (3531, 0.0), (3534, 0.0), (3537, 0.0), (3541, 0.0), (3542, 0.0), (3543, 0.0), (3544, 0.0), (3552, 0.0), (3553, 0.0), (3555, 0.0), (3556, 0.0), (3558, 0.0), (3559, 0.0), (3560, 0.0), (3561, 0.0), (3565, 0.0), (3569, 0.0), (3570, 0.0), (3571, 0.0), (3572, 0.0), (3573, 0.0), (3575, 0.0), (3582, 0.0), (3585, 0.0), (3588, 0.0), (3589, 0.0), (3590, 0.0), (3591, 0.0), (3592, 0.0), (3595, 0.0), (3596, 0.0), (3597, 0.0), (3600, 0.0), (3601, 0.0), (3602, 0.0), (3603, 0.0), (3604, 0.0), (3605, 0.0), (3611, 0.0), (3614, 0.0), (3615, 0.0), (3617, 0.0), (3621, 0.0), (3622, 0.0), (3623, 0.0), (3624, 0.0), (3625, 0.0), (3627, 0.0), (3629, 0.0), (3630, 0.0), (3634, 0.0), (3635, 0.0), (3636, 0.0), (3640, 0.0), (3642, 0.0), (3647, 0.0), (3649, 0.0), (3652, 0.0), (3657, 0.0), (3659, 0.0), (3660, 0.0), (3662, 0.0), (3663, 0.0), (3669, 0.0), (3670, 0.0), (3672, 0.0), (3675, 0.0), (3676, 0.0), (3679, 0.0), (3680, 0.0), (3683, 0.0), (3686, 0.0), (3687, 0.0), (3693, 0.0), (3694, 0.0), (3697, 0.0), (3699, 0.0), (3700, 0.0), (3703, 0.0), (3705, 0.0), (3706, 0.0), (3707, 0.0), (3708, 0.0), (3710, 0.0), (3714, 0.0), (3715, 0.0), (3717, 0.0), (3719, 0.0), (3721, 0.0), (3723, 0.0), (3725, 0.0), (3727, 0.0), (3729, 0.0), (3732, 0.0), (3733, 0.0), (3737, 0.0), (3740, 0.0), (3742, 0.0), (3744, 0.0), (3745, 0.0), (3749, 0.0), (3750, 0.0), (3755, 0.0), (3756, 0.0), (3757, 0.0), (3759, 0.0), (3760, 0.0), (3761, 0.0), (3762, 0.0), (3764, 0.0), (3766, 0.0), (3767, 0.0), (3770, 0.0), (3771, 0.0), (3772, 0.0), (3773, 0.0), (3774, 0.0), (3775, 0.0), (3779, 0.0), (3781, 0.0), (3782, 0.0), (3787, 0.0), (3791, 0.0), (3792, 0.0), (3794, 0.0), (3795, 0.0), (3797, 0.0), (3798, 0.0), (3799, 0.0), (3800, 0.0), (3804, 0.0), (3806, 0.0), (3808, 0.0), (3814, 0.0), (3820, 0.0), (3827, 0.0), (3828, 0.0), (3829, 0.0), (3830, 0.0), (3832, 0.0), (3834, 0.0), (3835, 0.0), (3837, 0.0), (3838, 0.0), (3839, 0.0), (3840, 0.0), (3845, 0.0), (3848, 0.0), (3849, 0.0), (3850, 0.0), (3851, 0.0), (3856, 0.0), (3860, 0.0), (3861, 0.0), (3862, 0.0), (3863, 0.0), (3864, 0.0), (3867, 0.0), (3873, 0.0), (3874, 0.0), (3876, 0.0), (3879, 0.0), (3880, 0.0), (3882, 0.0), (3883, 0.0), (3884, 0.0), (3885, 0.0), (3887, 0.0), (3888, 0.0), (3889, 0.0), (3893, 0.0), (3895, 0.0), (3896, 0.0), (3898, 0.0), (3899, 0.0), (3900, 0.0), (3902, 0.0), (3904, 0.0), (3905, 0.0), (3906, 0.0), (3908, 0.0), (3911, 0.0), (3913, 0.0), (3915, 0.0), (3918, 0.0), (3922, 0.0), (3925, 0.0), (3929, 0.0), (3931, 0.0), (3933, 0.0), (3934, 0.0), (3935, 0.0), (3937, 0.0), (3939, 0.0), (3941, 0.0), (3945, 0.0), (3946, 0.0), (3947, 0.0), (3949, 0.0), (3950, 0.0), (3952, 0.0), (3953, 0.0), (3954, 0.0), (3956, 0.0), (3958, 0.0), (3961, 0.0), (3962, 0.0), (3964, 0.0), (3967, 0.0), (3972, 0.0), (3973, 0.0), (3974, 0.0), (3976, 0.0), (3978, 0.0), (3979, 0.0), (3981, 0.0), (3982, 0.0), (3984, 0.0), (3987, 0.0), (3988, 0.0), (3992, 0.0), (3993, 0.0), (3996, 0.0), (3997, 0.0), (3999, 0.0), (4000, 0.0), (4003, 0.0), (4004, 0.0), (4005, 0.0), (4014, 0.0), (4016, 0.0), (4017, 0.0), (4018, 0.0), (4019, 0.0), (4022, 0.0), (4023, 0.0), (4024, 0.0), (4026, 0.0), (4027, 0.0), (4030, 0.0), (4033, 0.0), (4035, 0.0), (4036, 0.0), (4042, 0.0), (4043, 0.0), (4045, 0.0), (4046, 0.0), (4047, 0.0), (4048, 0.0), (4049, 0.0), (4050, 0.0), (4051, 0.0), (4052, 0.0), (4053, 0.0), (4056, 0.0), (4058, 0.0), (4060, 0.0), (4065, 0.0), (4067, 0.0), (4069, 0.0), (4072, 0.0), (4073, 0.0), (4075, 0.0), (4079, 0.0), (4080, 0.0), (4081, 0.0), (4082, 0.0), (4083, 0.0), (4084, 0.0), (4087, 0.0), (4088, 0.0), (4089, 0.0), (4092, 0.0), (4093, 0.0), (4094, 0.0), (4095, 0.0), (4096, 0.0), (4097, 0.0), (4098, 0.0), (4100, 0.0), (4101, 0.0), (4102, 0.0), (4103, 0.0), (4104, 0.0), (4107, 0.0), (4111, 0.0), (4113, 0.0), (4115, 0.0), (4116, 0.0), (4117, 0.0), (4122, 0.0), (4125, 0.0), (4126, 0.0), (4127, 0.0), (4128, 0.0), (4129, 0.0), (4130, 0.0), (4131, 0.0), (4138, 0.0), (4139, 0.0), (4141, 0.0), (4142, 0.0), (4144, 0.0), (4145, 0.0), (4147, 0.0), (4148, 0.0), (4151, 0.0), (4153, 0.0), (4161, 0.0), (4162, 0.0), (4163, 0.0), (4164, 0.0), (4166, 0.0), (4169, 0.0), (4170, 0.0), (4175, 0.0), (4177, 0.0), (4178, 0.0), (4179, 0.0), (4181, 0.0), (4182, 0.0), (4183, 0.0), (4184, 0.0), (4185, 0.0), (4186, 0.0), (4187, 0.0), (4197, 0.0), (4198, 0.0), (4202, 0.0), (4204, 0.0), (4206, 0.0), (4208, 0.0), (4209, 0.0), (4211, 0.0), (4212, 0.0), (4213, 0.0), (4214, 0.0), (4216, 0.0), (4219, 0.0), (4220, 0.0), (4221, 0.0), (4222, 0.0), (4223, 0.0), (4224, 0.0), (4225, 0.0), (4228, 0.0), (4229, 0.0), (4230, 0.0), (4231, 0.0), (4232, 0.0), (4233, 0.0), (4234, 0.0), (4235, 0.0), (4238, 0.0), (4243, 0.0), (4244, 0.0), (4245, 0.0), (4246, 0.0), (4247, 0.0), (4248, 0.0), (4249, 0.0), (4250, 0.0), (4253, 0.0), (4254, 0.0), (4255, 0.0), (4256, 0.0), (4260, 0.0), (4261, 0.0), (4263, 0.0), (4264, 0.0), (4266, 0.0), (4268, 0.0), (4273, 0.0), (4274, 0.0), (4275, 0.0), (4276, 0.0), (4277, 0.0), (4280, 0.0), (4285, 0.0), (4286, 0.0), (4288, 0.0), (4289, 0.0), (4291, 0.0), (4294, 0.0), (4295, 0.0), (4296, 0.0), (4298, 0.0), (4299, 0.0), (4301, 0.0), (4304, 0.0), (4305, 0.0), (4306, 0.0), (4307, 0.0), (4308, 0.0), (4309, 0.0), (4310, 0.0), (4311, 0.0), (4313, 0.0), (4315, 0.0), (4317, 0.0), (4318, 0.0), (4319, 0.0), (4320, 0.0), (4321, 0.0), (4322, 0.0), (4323, 0.0), (4324, 0.0), (4325, 0.0), (4326, 0.0), (4327, 0.0), (4333, 0.0), (4335, 0.0), (4336, 0.0), (4343, 0.0), (4345, 0.0), (4349, 0.0), (4350, 0.0), (4354, 0.0), (4355, 0.0), (4357, 0.0), (4361, 0.0), (4365, 0.0), (4367, 0.0), (4369, 0.0), (4372, 0.0), (4375, 0.0), (4378, 0.0), (4381, 0.0), (4382, 0.0), (4383, 0.0), (4384, 0.0), (4386, 0.0), (4390, 0.0), (4391, 0.0), (4393, 0.0), (4398, 0.0), (4400, 0.0), (4403, 0.0), (4407, 0.0), (4408, 0.0), (4409, 0.0), (4410, 0.0), (4411, 0.0), (4413, 0.0), (4415, 0.0), (4416, 0.0), (4417, 0.0), (4418, 0.0), (4419, 0.0), (4420, 0.0), (4421, 0.0), (4422, 0.0), (4423, 0.0), (4424, 0.0), (4425, 0.0), (4429, 0.0), (4430, 0.0), (4432, 0.0), (4433, 0.0), (4435, 0.0), (4437, 0.0), (4439, 0.0), (4440, 0.0), (4443, 0.0), (4445, 0.0), (4446, 0.0), (4452, 0.0), (4453, 0.0), (4456, 0.0), (4458, 0.0), (4461, 0.0), (4463, 0.0), (4464, 0.0), (4465, 0.0), (4466, 0.0), (4468, 0.0), (4469, 0.0), (4470, 0.0), (4471, 0.0), (4474, 0.0), (4475, 0.0), (4476, 0.0), (4479, 0.0), (4480, 0.0), (4484, 0.0), (4485, 0.0), (4487, 0.0), (4489, 0.0), (4490, 0.0), (4491, 0.0), (4493, 0.0), (4494, 0.0), (4497, 0.0), (4498, 0.0), (4499, 0.0), (4502, 0.0), (4505, 0.0), (4507, 0.0), (4508, 0.0), (4509, 0.0), (4510, 0.0), (4512, 0.0), (4514, 0.0), (4519, 0.0), (4520, 0.0), (4521, 0.0), (4522, 0.0), (4528, 0.0), (4529, 0.0), (4530, 0.0), (4533, 0.0), (4535, 0.0), (4536, 0.0), (4540, 0.0), (4543, 0.0), (4544, 0.0), (4545, 0.0), (4547, 0.0), (4553, 0.0), (4554, 0.0), (4555, 0.0), (4556, 0.0), (4557, 0.0), (4558, 0.0), (4560, 0.0), (4561, 0.0), (4562, 0.0), (4563, 0.0), (4566, 0.0), (4567, 0.0), (4571, 0.0), (4572, 0.0), (4573, 0.0), (4575, 0.0), (4577, 0.0), (4578, 0.0), (4579, 0.0), (4580, 0.0), (4584, 0.0), (4586, 0.0), (4587, 0.0), (4588, 0.0), (4591, 0.0), (4597, 0.0), (4602, 0.0), (4603, 0.0), (4605, 0.0), (4606, 0.0), (4608, 0.0), (4610, 0.0), (4611, 0.0), (4616, 0.0), (4617, 0.0), (4620, 0.0), (4622, 0.0), (4625, 0.0), (4627, 0.0), (4628, 0.0), (4631, 0.0), (4632, 0.0), (4633, 0.0), (4636, 0.0), (4637, 0.0), (4638, 0.0), (4640, 0.0), (4642, 0.0), (4644, 0.0), (4648, 0.0), (4650, 0.0), (4651, 0.0), (4653, 0.0), (4655, 0.0), (4656, 0.0), (4657, 0.0), (4661, 0.0), (4663, 0.0), (4666, 0.0), (4669, 0.0), (4670, 0.0), (4671, 0.0), (4673, 0.0), (4676, 0.0), (4677, 0.0), (4678, 0.0), (4680, 0.0), (4681, 0.0), (4684, 0.0), (4688, 0.0), (4690, 0.0), (4691, 0.0), (4692, 0.0), (4693, 0.0), (4694, 0.0), (4696, 0.0), (4700, 0.0), (4702, 0.0), (4703, 0.0), (4704, 0.0), (4705, 0.0), (4706, 0.0), (4707, 0.0), (4709, 0.0), (4710, 0.0), (4712, 0.0), (4713, 0.0), (4714, 0.0), (4715, 0.0), (4717, 0.0), (4719, 0.0), (4721, 0.0), (4722, 0.0), (4723, 0.0), (4724, 0.0), (4725, 0.0), (4727, 0.0), (4728, 0.0), (4729, 0.0), (4731, 0.0), (4733, 0.0), (4734, 0.0), (4735, 0.0), (4736, 0.0), (4738, 0.0), (4739, 0.0), (4742, 0.0), (4743, 0.0), (4744, 0.0), (4745, 0.0), (4747, 0.0), (4749, 0.0), (4753, 0.0), (4757, 0.0), (4759, 0.0)]\n"
     ]
    }
   ],
   "source": [
    "#sorting the movies based on their similarity scores\n",
    "sorted_similar_movies = sorted(recommendation_score,key = lambda x:x[1], reverse = True)\n",
    "print(sorted_similar_movies)"
   ]
  },
  {
   "cell_type": "code",
   "execution_count": 41,
   "id": "9682c773",
   "metadata": {},
   "outputs": [
    {
     "name": "stdout",
     "output_type": "stream",
     "text": [
      "top 30 movies suggested for you: \n",
      " \n",
      "1 . The Wicked Within\n",
      "2 . Y tu mamá también\n",
      "3 . Dark Shadows\n",
      "4 . The Time Machine\n",
      "5 . Eragon\n",
      "6 . Bled\n",
      "7 . Resident Evil: Apocalypse\n",
      "8 . The Fourth Kind\n",
      "9 . Inkheart\n",
      "10 . Resident Evil: Retribution\n",
      "11 . Star Wars: Episode I - The Phantom Menace\n",
      "12 . The Claim\n",
      "13 . Twin Falls Idaho\n",
      "14 . Paddington\n",
      "15 . Gunless\n",
      "16 . Running Forever\n",
      "17 . Teeth\n",
      "18 . Wah-Wah\n",
      "19 . The Order\n",
      "20 . Thir13en Ghosts\n",
      "21 . The Ninth Gate\n",
      "22 . History of the World: Part I\n",
      "23 . The Gallows\n",
      "24 . The Prince of Tides\n",
      "25 . The Lucky One\n",
      "26 . My Dog Skip\n",
      "27 . Dirty Pretty Things\n",
      "28 . Black Rock\n",
      "29 . Quarantine\n",
      "30 . Slam\n"
     ]
    }
   ],
   "source": [
    "# print the names of similar movies based on index\n",
    "print('top 30 movies suggested for you: \\n ')\n",
    "\n",
    "i = 1\n",
    "\n",
    "for movie in sorted_similar_movies:\n",
    "    index = movie[0]\n",
    "    title_from_index = df[df.index==index]['Movie_Title'].values[0]\n",
    "    if (i<31):\n",
    "        print(i,'.',title_from_index)\n",
    "        i+=1"
   ]
  },
  {
   "cell_type": "markdown",
   "id": "89bcbc96",
   "metadata": {},
   "source": [
    "movie recommendation system"
   ]
  },
  {
   "cell_type": "code",
   "execution_count": 42,
   "id": "0bef89d7",
   "metadata": {},
   "outputs": [
    {
     "name": "stdout",
     "output_type": "stream",
     "text": [
      "enter your favourite movie name : interstellar\n",
      "top 10 movies suggested for you: \n",
      "\n",
      "1 . ['Interstellar']\n",
      "2 . ['Out of Sight']\n",
      "3 . ['Quest for Fire']\n",
      "4 . ['The Perfect Storm']\n",
      "5 . ['The Chronicles of Narnia: Prince Caspian']\n",
      "6 . [\"Love's Abiding Joy\"]\n",
      "7 . ['Resident Evil']\n",
      "8 . ['The Boondock Saints II: All Saints Day']\n",
      "9 . ['Space Jam']\n",
      "10 . ['Fascination']\n"
     ]
    }
   ],
   "source": [
    "Movie_Name = input('enter your favourite movie name : ')\n",
    "list_of_all_titles = df['Movie_Title'].tolist()\n",
    "find_close_match = difflib.get_close_matches(Movie_Name, list_of_all_titles)\n",
    "close_match = find_close_match[0]\n",
    "index_of_movie = df[df.Movie_Title == close_match]['Movie_ID'].values[0]\n",
    "recommendation_score = list(enumerate(similarity_score[index_of_movie]))\n",
    "sorted_similar_movies = sorted(recommendation_score, key = lambda x:x[1], reverse = True)\n",
    "print('top 10 movies suggested for you: \\n')\n",
    "\n",
    "i=1\n",
    "\n",
    "for movie in sorted_similar_movies:\n",
    "    index = movie[0]\n",
    "    title_from_index = df[df.Movie_ID==index]['Movie_Title'].values\n",
    "    if(i<11):\n",
    "        print(i,'.',title_from_index)\n",
    "        i+=1"
   ]
  },
  {
   "cell_type": "code",
   "execution_count": null,
   "id": "6a9fcd52",
   "metadata": {},
   "outputs": [],
   "source": []
  }
 ],
 "metadata": {
  "kernelspec": {
   "display_name": "Python 3 (ipykernel)",
   "language": "python",
   "name": "python3"
  },
  "language_info": {
   "codemirror_mode": {
    "name": "ipython",
    "version": 3
   },
   "file_extension": ".py",
   "mimetype": "text/x-python",
   "name": "python",
   "nbconvert_exporter": "python",
   "pygments_lexer": "ipython3",
   "version": "3.9.12"
  }
 },
 "nbformat": 4,
 "nbformat_minor": 5
}
